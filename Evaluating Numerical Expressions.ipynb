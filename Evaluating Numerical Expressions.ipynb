{
 "cells": [
  {
   "cell_type": "markdown",
   "metadata": {},
   "source": [
    "# Evaluating numerical expressions"
   ]
  },
  {
   "cell_type": "markdown",
   "metadata": {},
   "source": [
    "In this project, I will use stacks to implement an algorithm that can evaluate numerical expressions."
   ]
  },
  {
   "cell_type": "code",
   "execution_count": 2,
   "metadata": {},
   "outputs": [],
   "source": [
    "# importing a linked list class\n",
    "from linked_list import LinkedList"
   ]
  },
  {
   "cell_type": "code",
   "execution_count": 5,
   "metadata": {},
   "outputs": [],
   "source": [
    "# Creating a stack class\n",
    "class Stack(LinkedList):\n",
    "    def push(self, data):\n",
    "        self.append(data)\n",
    "    def peek(self):\n",
    "        return self.tail.data\n",
    "    def pop(self):\n",
    "        ret = self.tail.data\n",
    "        if self.length == 1:\n",
    "            self.tail = self.head = None\n",
    "        else:\n",
    "            self.tail = self.tail.prev\n",
    "            self.tail.next = None\n",
    "        self.length -= 1\n",
    "        return ret"
   ]
  },
  {
   "cell_type": "markdown",
   "metadata": {},
   "source": [
    "## Implementing functions to evaluate expressions in postfix notation"
   ]
  },
  {
   "cell_type": "markdown",
   "metadata": {},
   "source": [
    "When we write an expression, we use infix notation, meaning that we put the operators between the two operands. For example 1 + 2 is in infix notation because the + operator is between the operands 1 and 2.\n",
    "\n",
    "For a computer, it's much easier to evaluate an expression written in postfix notation. In postfix notation, the operands appear before the operator. The infix expression 1 + 2 becomes 1 2 + in postfix notation.\n",
    "\n",
    "To simplify the function, we will assume that, in the expression string we want to evaluate, there are spaces between all elements of the expression.\n",
    "\n",
    "Based on this assumption, we can transform the postfix expression string into a list of elements using the str.split() method. In the context of evaluating expressions, we call these elements tokens, and the term for transforming the expression into a list of tokens is tokenize. "
   ]
  },
  {
   "cell_type": "code",
   "execution_count": 6,
   "metadata": {},
   "outputs": [
    {
     "data": {
      "text/plain": [
       "['1', '5', '*', '2', '/', '4', '5', '+']"
      ]
     },
     "execution_count": 6,
     "metadata": {},
     "output_type": "execute_result"
    }
   ],
   "source": [
    "# Function to tokenize a postfix expression\n",
    "def tokenize(string):\n",
    "    return string.split()\n",
    "\n",
    "# Testing the function\n",
    "test = '1 5 * 2 / 4 5 +'\n",
    "tokenize(test)"
   ]
  },
  {
   "cell_type": "markdown",
   "metadata": {},
   "source": [
    "Evaluating an expression in postfix notation using a stack involves the following:\n",
    "- If we find a number, then we push that number to the top of the stack.\n",
    "- If we find an operator, we pop the top two elements of the stack, perform the operation, and then push back the result. The element at the top of the stack is actually the second operand in the expression, while the element that is second to top is the first operand."
   ]
  },
  {
   "cell_type": "code",
   "execution_count": 16,
   "metadata": {},
   "outputs": [],
   "source": [
    "# function for processing - token\n",
    "def process_minus(stack):\n",
    "    top = stack.pop()\n",
    "    second_to_top = stack.pop()\n",
    "    result = second_to_top - top\n",
    "    stack.push(result)"
   ]
  },
  {
   "cell_type": "code",
   "execution_count": 17,
   "metadata": {},
   "outputs": [],
   "source": [
    "# function for processing + token\n",
    "def process_plus(stack):\n",
    "    top = stack.pop()\n",
    "    second_to_top = stack.pop()\n",
    "    result = second_to_top + top\n",
    "    stack.push(result)"
   ]
  },
  {
   "cell_type": "code",
   "execution_count": 18,
   "metadata": {},
   "outputs": [],
   "source": [
    "# function for processing * token\n",
    "def process_mult(stack):\n",
    "    top = stack.pop()\n",
    "    second_to_top = stack.pop()\n",
    "    result = second_to_top * top\n",
    "    stack.push(result)"
   ]
  },
  {
   "cell_type": "code",
   "execution_count": 19,
   "metadata": {},
   "outputs": [],
   "source": [
    "# function for processing / token\n",
    "def process_div(stack):\n",
    "    top = stack.pop()\n",
    "    second_to_top = stack.pop()\n",
    "    result = second_to_top / top\n",
    "    stack.push(result)"
   ]
  },
  {
   "cell_type": "code",
   "execution_count": 20,
   "metadata": {},
   "outputs": [],
   "source": [
    "# function for processing ** token\n",
    "def process_power(stack):\n",
    "    top = stack.pop()\n",
    "    second_to_top = stack.pop()\n",
    "    result = second_to_top ** top\n",
    "    stack.push(result)"
   ]
  },
  {
   "cell_type": "markdown",
   "metadata": {},
   "source": [
    "## Algorithm for evaluating postfix expression"
   ]
  },
  {
   "cell_type": "code",
   "execution_count": 24,
   "metadata": {},
   "outputs": [],
   "source": [
    "def evaluate_postfix(expression):\n",
    "    tokenized = tokenize(expression)\n",
    "    stack = Stack()\n",
    "    for t in tokenized:\n",
    "        if t == \"+\":\n",
    "            process_plus(stack)\n",
    "        elif t == \"-\":\n",
    "            process_minus(stack)\n",
    "        elif t == \"*\":\n",
    "            process_mult(stack)\n",
    "        elif t == \"/\":\n",
    "            process_div(stack)\n",
    "        elif t == \"**\":\n",
    "            process_power(stack)\n",
    "        else:\n",
    "            # The token is not an operator so it must be a number\n",
    "            stack.push(float(t))\n",
    "    return stack.pop()\n",
    "            "
   ]
  },
  {
   "cell_type": "code",
   "execution_count": 25,
   "metadata": {},
   "outputs": [],
   "source": [
    "# testing the algorithm\n",
    "expressions = [\n",
    "    \"4 6 -\",\n",
    "    \"4 1 2 9 3 / * + 5 - *\",\n",
    "    \"1 2 + 3 -\",\n",
    "    \"1 2 - 3 +\",\n",
    "    \"10 3 5 * 16 4 - / +\",\n",
    "    \"5 3 4 2 - ** *\",\n",
    "    \"12 2 4 + / 21 *\",\n",
    "    \"1 1 + 2 **\",\n",
    "    \"1 1 2 ** +\"\n",
    "]"
   ]
  },
  {
   "cell_type": "code",
   "execution_count": 26,
   "metadata": {},
   "outputs": [
    {
     "data": {
      "text/plain": [
       "[-2.0, 8.0, 0.0, 2.0, 11.25, 45.0, 42.0, 4.0, 2.0]"
      ]
     },
     "execution_count": 26,
     "metadata": {},
     "output_type": "execute_result"
    }
   ],
   "source": [
    "answers = []\n",
    "for e in expressions:\n",
    "    answer = evaluate_postfix(e)\n",
    "    answers.append(answer)\n",
    "answers"
   ]
  },
  {
   "cell_type": "markdown",
   "metadata": {},
   "source": [
    "### Converting infix expressions to postfix"
   ]
  },
  {
   "cell_type": "markdown",
   "metadata": {},
   "source": [
    "I'll implement the Shunting-yard algorithm. The data structure to implement this algorithm is (again) a stack.\n",
    "\n",
    "In the Shunting-yard algorithm, we'll need to compare the precedence of the operators in infix notation. We will use numbers to represent the operator precedence. The higher the precedence, the higher the number. \n",
    "\n",
    "- 1 for + & -\n",
    "- 2 for * & /\n",
    "- 3 for **"
   ]
  },
  {
   "cell_type": "code",
   "execution_count": 28,
   "metadata": {},
   "outputs": [
    {
     "name": "stdout",
     "output_type": "stream",
     "text": [
      "False\n",
      "True\n",
      "True\n"
     ]
    }
   ],
   "source": [
    "# creating a precedence dictionary\n",
    "precedence = {\n",
    "    '+': 1,\n",
    "    '-': 1,\n",
    "    '*': 2,\n",
    "    '/': 2,\n",
    "    '**': 3\n",
    "}\n",
    "\n",
    "# testing the dictionary\n",
    "print(precedence[\"/\"] < precedence[\"-\"])\n",
    "print(precedence[\"/\"] < precedence[\"**\"])\n",
    "print(precedence[\"+\"] < precedence[\"*\"])"
   ]
  },
  {
   "cell_type": "markdown",
   "metadata": {},
   "source": [
    "Now I'll create a function for converting infix to postfix notation. The function will start by tokenizing the postfix expression, and then it processes the tokens one by one using a stack. It builds the postfix expression by keeping track of a list named postfix, which will contain the list of tokens in postfix order.\n",
    "\n",
    "Here's how processing should go for each token:\n",
    "\n",
    "- Opening parenthesis, (:\n",
    "    1. Push the token into the stack for later use when we find a closing parenthesis.\n",
    "    \n",
    "    \n",
    "- Closing parenthesis ):\n",
    "    1. While the top of the stack isn't an opening parenthesis, (, pop the top element, and append it to the postfix token list.\n",
    "    2. Pop the opening parentheses out of the stack at the end.\n",
    "    \n",
    "    \n",
    "- Operator, +, -, *, /, or **:\n",
    "    1. While the top of the stack is also an operator with a precedence greater than or equal to this operator, pop the top element, and append it to the postfix token list.\n",
    "    2. Push the current operator to the top of the stack\n",
    "    \n",
    "    \n",
    "- Operand (any number):\n",
    "    1. Append the number to the postfix token list.\n",
    "    \n",
    "After having processed all tokens, the stack may not be empty. In this case we pop all remaining operators into the postfix list."
   ]
  },
  {
   "cell_type": "code",
   "execution_count": 42,
   "metadata": {},
   "outputs": [],
   "source": [
    "# Function for handling open parenthesis\n",
    "def process_opening_parenthesis(stack):\n",
    "    stack.push(\"(\")\n",
    "\n",
    "# Function for handling closing parenthesis\n",
    "\"\"\"Logic: While the top of the stack isn't an opening parenthesis, (, \n",
    "pop the top element, and append it to the postfix token list. \n",
    "Pop the opening parentheses out of the stack at the end.\"\"\"\n",
    "def process_closing_parenthesis(stack, postfix):\n",
    "    while stack.peek() != \"(\":\n",
    "        postfix.append(stack.pop())\n",
    "    stack.pop()\n",
    "\n",
    "# Function for handling operators\n",
    "\"\"\"Logic: While the top of the stack is also an operator \n",
    "with a precedence greater than or equal to this operator, \n",
    "pop the top element and append it to the postfix token list.\n",
    "Push the current operator to the top of the stack.\n",
    "\"\"\"\n",
    "def process_operator(stack, postfix, operator):\n",
    "    while len(stack) > 0 and stack.peek() in precedence and  precedence[stack.peek()] >= precedence[operator]:\n",
    "    # Pop the top of the stack into the postfix list\n",
    "        postfix.append(stack.pop())\n",
    "    stack.push(operator)\n",
    "\n",
    "# Function for handling numbers\n",
    "\"\"\"Logic: Push the token into the postfix token list\"\"\"\n",
    "def process_number(postfix, number):\n",
    "    postfix.append(number)\n"
   ]
  },
  {
   "cell_type": "markdown",
   "metadata": {},
   "source": [
    "### Putting together an infix_to_postfix() function"
   ]
  },
  {
   "cell_type": "markdown",
   "metadata": {},
   "source": [
    "This function will work as follows:\n",
    "\n",
    "1. We start by splitting the expression into tokens using the tokenize() function.\n",
    "2. We initialize an empty stack.\n",
    "3. We initialize an empty postfix token list.\n",
    "4. Iterate over all tokens, and for each, do the following:\n",
    "    - If the token is \"(\", we call the process_opening_parenthesis() function.\n",
    "    - If the token is \")\", we call the process_closing_parenthesis() function.\n",
    "    - If the token is an operator, we call the process_operator() function.\n",
    "    - Otherwise, the token is a number, and we call the process_number() function.\n",
    "5. After processing all tokens, we use a while loop to pop the remaining stack element into the postfix token list.\n",
    "6. Use the str.join() method to convert the postfix token list into a string."
   ]
  },
  {
   "cell_type": "code",
   "execution_count": 43,
   "metadata": {},
   "outputs": [],
   "source": [
    "def infix_to_postfix(expression):\n",
    "    tokens = tokenize(expression)\n",
    "    stack = Stack()\n",
    "    postfix = []\n",
    "    for token in tokens:\n",
    "        if token == \"(\":\n",
    "            process_opening_parenthesis(stack)\n",
    "        elif token == \")\":\n",
    "            process_closing_parenthesis(stack, postfix)\n",
    "        elif token in precedence:\n",
    "            process_operator(stack, postfix, token)\n",
    "        else:\n",
    "            process_number(postfix, token)\n",
    "    while len(stack)>0:\n",
    "        postfix.append(stack.pop())\n",
    "    return \" \".join(postfix)"
   ]
  },
  {
   "cell_type": "markdown",
   "metadata": {},
   "source": [
    "### Combining the 2 functions to evaluate numerical expressions"
   ]
  },
  {
   "cell_type": "code",
   "execution_count": 44,
   "metadata": {},
   "outputs": [],
   "source": [
    "def evaluate(expression):\n",
    "    postfix_expression = infix_to_postfix(expression)\n",
    "    return evaluate_postfix(postfix_expression)"
   ]
  },
  {
   "cell_type": "code",
   "execution_count": 46,
   "metadata": {},
   "outputs": [
    {
     "name": "stdout",
     "output_type": "stream",
     "text": [
      "[2.0, 0.0, 8.0, 11.25, 256.0, 65536.0, 0.5, 9.0, 1.0]\n"
     ]
    }
   ],
   "source": [
    "# Testing the function\n",
    "expressions = [\n",
    "    \"1 + 1\",\n",
    "    \"1 * ( 2 - ( 1 + 1 ) )\",\n",
    "    \"4 * ( 1 + 2 * ( 9 / 3 ) - 5 )\",\n",
    "    \"10 + 3 * 5 / ( 16 - 4 * 1 )\",\n",
    "    \"2 * 2 * 2 * 2 * 2 * 2 * 2 * 2\",\n",
    "    \"2 ** 2 ** 2 ** 2 ** 2\",\n",
    "    \"( 1 - 2 ) / ( 3 - 5 )\",\n",
    "    \"9 / 8 * 8\",\n",
    "    \"64 / ( 8 * 8 )\",\n",
    "]\n",
    "\n",
    "results = []\n",
    "for e in expressions:\n",
    "    result = evaluate(e)\n",
    "    results.append(result)\n",
    "    \n",
    "print(results)"
   ]
  },
  {
   "cell_type": "markdown",
   "metadata": {},
   "source": [
    "The evaluate() function that we implemented exists in Python as the eval() built-in function. The Python implementation can actually evaluate any string of Python code, not only expressions."
   ]
  },
  {
   "cell_type": "markdown",
   "metadata": {},
   "source": [
    "Possible next steps:\n",
    "\n",
    "- Improving the tokenize() method to make it more robust as one of the limitations of our implementation is that it requires spaces to separate every part of the expression. For example, we can evaluate the expression 2 * ( 5 - 3 ), but we can't evaluate 2 * (5 - 3) or 2*(5 - 3). \n",
    "\n",
    "- Implement other operators — for example, the integer division //."
   ]
  },
  {
   "cell_type": "markdown",
   "metadata": {},
   "source": []
  }
 ],
 "metadata": {
  "kernelspec": {
   "display_name": "Python 3",
   "language": "python",
   "name": "python3"
  },
  "language_info": {
   "codemirror_mode": {
    "name": "ipython",
    "version": 3
   },
   "file_extension": ".py",
   "mimetype": "text/x-python",
   "name": "python",
   "nbconvert_exporter": "python",
   "pygments_lexer": "ipython3",
   "version": "3.8.2"
  }
 },
 "nbformat": 4,
 "nbformat_minor": 1
}
