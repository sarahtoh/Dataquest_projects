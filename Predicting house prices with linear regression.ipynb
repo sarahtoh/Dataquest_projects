{
 "cells": [
  {
   "cell_type": "markdown",
   "metadata": {
    "collapsed": true
   },
   "source": [
    "# Assessing linear regression models for predicting house prices"
   ]
  },
  {
   "cell_type": "markdown",
   "metadata": {},
   "source": [
    "We'll be testing out different methods for predicting housing prices using housing data for or the city of Ames, Iowa, United States from 2006 to 2010. Background to the data collection can be found [here](https://www.tandfonline.com/doi/abs/10.1080/10691898.2011.11889627), while the details about the different columns can be found [here](https://s3.amazonaws.com/dq-content/307/data_description.txt)."
   ]
  },
  {
   "cell_type": "markdown",
   "metadata": {},
   "source": [
    "## Setting up functions that will be needed"
   ]
  },
  {
   "cell_type": "code",
   "execution_count": 21,
   "metadata": {
    "collapsed": true
   },
   "outputs": [],
   "source": [
    "import pandas as pd\n",
    "import numpy as np\n",
    "import seaborn as sns\n",
    "import matplotlib.pyplot as plt\n",
    "%matplotlib inline\n",
    "\n",
    "from sklearn.neighbors import KNeighborsRegressor\n",
    "from sklearn.metrics import mean_squared_error\n",
    "from sklearn.linear_model import LinearRegression\n",
    "from sklearn.model_selection import KFold\n",
    "from sklearn.model_selection import cross_val_score"
   ]
  },
  {
   "cell_type": "code",
   "execution_count": 22,
   "metadata": {
    "collapsed": false
   },
   "outputs": [],
   "source": [
    "data = pd.read_csv('AmesHousing.tsv',delimiter='\\t')"
   ]
  },
  {
   "cell_type": "code",
   "execution_count": 23,
   "metadata": {
    "collapsed": false
   },
   "outputs": [
    {
     "data": {
      "text/html": [
       "<div>\n",
       "<style scoped>\n",
       "    .dataframe tbody tr th:only-of-type {\n",
       "        vertical-align: middle;\n",
       "    }\n",
       "\n",
       "    .dataframe tbody tr th {\n",
       "        vertical-align: top;\n",
       "    }\n",
       "\n",
       "    .dataframe thead th {\n",
       "        text-align: right;\n",
       "    }\n",
       "</style>\n",
       "<table border=\"1\" class=\"dataframe\">\n",
       "  <thead>\n",
       "    <tr style=\"text-align: right;\">\n",
       "      <th></th>\n",
       "      <th>Order</th>\n",
       "      <th>PID</th>\n",
       "      <th>MS SubClass</th>\n",
       "      <th>MS Zoning</th>\n",
       "      <th>Lot Frontage</th>\n",
       "      <th>Lot Area</th>\n",
       "      <th>Street</th>\n",
       "      <th>Alley</th>\n",
       "      <th>Lot Shape</th>\n",
       "      <th>Land Contour</th>\n",
       "      <th>...</th>\n",
       "      <th>Pool Area</th>\n",
       "      <th>Pool QC</th>\n",
       "      <th>Fence</th>\n",
       "      <th>Misc Feature</th>\n",
       "      <th>Misc Val</th>\n",
       "      <th>Mo Sold</th>\n",
       "      <th>Yr Sold</th>\n",
       "      <th>Sale Type</th>\n",
       "      <th>Sale Condition</th>\n",
       "      <th>SalePrice</th>\n",
       "    </tr>\n",
       "  </thead>\n",
       "  <tbody>\n",
       "    <tr>\n",
       "      <th>0</th>\n",
       "      <td>1</td>\n",
       "      <td>526301100</td>\n",
       "      <td>20</td>\n",
       "      <td>RL</td>\n",
       "      <td>141.0</td>\n",
       "      <td>31770</td>\n",
       "      <td>Pave</td>\n",
       "      <td>NaN</td>\n",
       "      <td>IR1</td>\n",
       "      <td>Lvl</td>\n",
       "      <td>...</td>\n",
       "      <td>0</td>\n",
       "      <td>NaN</td>\n",
       "      <td>NaN</td>\n",
       "      <td>NaN</td>\n",
       "      <td>0</td>\n",
       "      <td>5</td>\n",
       "      <td>2010</td>\n",
       "      <td>WD</td>\n",
       "      <td>Normal</td>\n",
       "      <td>215000</td>\n",
       "    </tr>\n",
       "    <tr>\n",
       "      <th>1</th>\n",
       "      <td>2</td>\n",
       "      <td>526350040</td>\n",
       "      <td>20</td>\n",
       "      <td>RH</td>\n",
       "      <td>80.0</td>\n",
       "      <td>11622</td>\n",
       "      <td>Pave</td>\n",
       "      <td>NaN</td>\n",
       "      <td>Reg</td>\n",
       "      <td>Lvl</td>\n",
       "      <td>...</td>\n",
       "      <td>0</td>\n",
       "      <td>NaN</td>\n",
       "      <td>MnPrv</td>\n",
       "      <td>NaN</td>\n",
       "      <td>0</td>\n",
       "      <td>6</td>\n",
       "      <td>2010</td>\n",
       "      <td>WD</td>\n",
       "      <td>Normal</td>\n",
       "      <td>105000</td>\n",
       "    </tr>\n",
       "    <tr>\n",
       "      <th>2</th>\n",
       "      <td>3</td>\n",
       "      <td>526351010</td>\n",
       "      <td>20</td>\n",
       "      <td>RL</td>\n",
       "      <td>81.0</td>\n",
       "      <td>14267</td>\n",
       "      <td>Pave</td>\n",
       "      <td>NaN</td>\n",
       "      <td>IR1</td>\n",
       "      <td>Lvl</td>\n",
       "      <td>...</td>\n",
       "      <td>0</td>\n",
       "      <td>NaN</td>\n",
       "      <td>NaN</td>\n",
       "      <td>Gar2</td>\n",
       "      <td>12500</td>\n",
       "      <td>6</td>\n",
       "      <td>2010</td>\n",
       "      <td>WD</td>\n",
       "      <td>Normal</td>\n",
       "      <td>172000</td>\n",
       "    </tr>\n",
       "    <tr>\n",
       "      <th>3</th>\n",
       "      <td>4</td>\n",
       "      <td>526353030</td>\n",
       "      <td>20</td>\n",
       "      <td>RL</td>\n",
       "      <td>93.0</td>\n",
       "      <td>11160</td>\n",
       "      <td>Pave</td>\n",
       "      <td>NaN</td>\n",
       "      <td>Reg</td>\n",
       "      <td>Lvl</td>\n",
       "      <td>...</td>\n",
       "      <td>0</td>\n",
       "      <td>NaN</td>\n",
       "      <td>NaN</td>\n",
       "      <td>NaN</td>\n",
       "      <td>0</td>\n",
       "      <td>4</td>\n",
       "      <td>2010</td>\n",
       "      <td>WD</td>\n",
       "      <td>Normal</td>\n",
       "      <td>244000</td>\n",
       "    </tr>\n",
       "    <tr>\n",
       "      <th>4</th>\n",
       "      <td>5</td>\n",
       "      <td>527105010</td>\n",
       "      <td>60</td>\n",
       "      <td>RL</td>\n",
       "      <td>74.0</td>\n",
       "      <td>13830</td>\n",
       "      <td>Pave</td>\n",
       "      <td>NaN</td>\n",
       "      <td>IR1</td>\n",
       "      <td>Lvl</td>\n",
       "      <td>...</td>\n",
       "      <td>0</td>\n",
       "      <td>NaN</td>\n",
       "      <td>MnPrv</td>\n",
       "      <td>NaN</td>\n",
       "      <td>0</td>\n",
       "      <td>3</td>\n",
       "      <td>2010</td>\n",
       "      <td>WD</td>\n",
       "      <td>Normal</td>\n",
       "      <td>189900</td>\n",
       "    </tr>\n",
       "  </tbody>\n",
       "</table>\n",
       "<p>5 rows × 82 columns</p>\n",
       "</div>"
      ],
      "text/plain": [
       "   Order        PID  MS SubClass MS Zoning  Lot Frontage  Lot Area Street  \\\n",
       "0      1  526301100           20        RL         141.0     31770   Pave   \n",
       "1      2  526350040           20        RH          80.0     11622   Pave   \n",
       "2      3  526351010           20        RL          81.0     14267   Pave   \n",
       "3      4  526353030           20        RL          93.0     11160   Pave   \n",
       "4      5  527105010           60        RL          74.0     13830   Pave   \n",
       "\n",
       "  Alley Lot Shape Land Contour    ...     Pool Area Pool QC  Fence  \\\n",
       "0   NaN       IR1          Lvl    ...             0     NaN    NaN   \n",
       "1   NaN       Reg          Lvl    ...             0     NaN  MnPrv   \n",
       "2   NaN       IR1          Lvl    ...             0     NaN    NaN   \n",
       "3   NaN       Reg          Lvl    ...             0     NaN    NaN   \n",
       "4   NaN       IR1          Lvl    ...             0     NaN  MnPrv   \n",
       "\n",
       "  Misc Feature Misc Val Mo Sold Yr Sold Sale Type  Sale Condition  SalePrice  \n",
       "0          NaN        0       5    2010       WD           Normal     215000  \n",
       "1          NaN        0       6    2010       WD           Normal     105000  \n",
       "2         Gar2    12500       6    2010       WD           Normal     172000  \n",
       "3          NaN        0       4    2010       WD           Normal     244000  \n",
       "4          NaN        0       3    2010       WD           Normal     189900  \n",
       "\n",
       "[5 rows x 82 columns]"
      ]
     },
     "execution_count": 23,
     "metadata": {},
     "output_type": "execute_result"
    }
   ],
   "source": [
    "data.head(5)"
   ]
  },
  {
   "cell_type": "code",
   "execution_count": 24,
   "metadata": {
    "collapsed": false
   },
   "outputs": [
    {
     "name": "stdout",
     "output_type": "stream",
     "text": [
      "<class 'pandas.core.frame.DataFrame'>\n",
      "RangeIndex: 2930 entries, 0 to 2929\n",
      "Data columns (total 82 columns):\n",
      "Order              2930 non-null int64\n",
      "PID                2930 non-null int64\n",
      "MS SubClass        2930 non-null int64\n",
      "MS Zoning          2930 non-null object\n",
      "Lot Frontage       2440 non-null float64\n",
      "Lot Area           2930 non-null int64\n",
      "Street             2930 non-null object\n",
      "Alley              198 non-null object\n",
      "Lot Shape          2930 non-null object\n",
      "Land Contour       2930 non-null object\n",
      "Utilities          2930 non-null object\n",
      "Lot Config         2930 non-null object\n",
      "Land Slope         2930 non-null object\n",
      "Neighborhood       2930 non-null object\n",
      "Condition 1        2930 non-null object\n",
      "Condition 2        2930 non-null object\n",
      "Bldg Type          2930 non-null object\n",
      "House Style        2930 non-null object\n",
      "Overall Qual       2930 non-null int64\n",
      "Overall Cond       2930 non-null int64\n",
      "Year Built         2930 non-null int64\n",
      "Year Remod/Add     2930 non-null int64\n",
      "Roof Style         2930 non-null object\n",
      "Roof Matl          2930 non-null object\n",
      "Exterior 1st       2930 non-null object\n",
      "Exterior 2nd       2930 non-null object\n",
      "Mas Vnr Type       2907 non-null object\n",
      "Mas Vnr Area       2907 non-null float64\n",
      "Exter Qual         2930 non-null object\n",
      "Exter Cond         2930 non-null object\n",
      "Foundation         2930 non-null object\n",
      "Bsmt Qual          2850 non-null object\n",
      "Bsmt Cond          2850 non-null object\n",
      "Bsmt Exposure      2847 non-null object\n",
      "BsmtFin Type 1     2850 non-null object\n",
      "BsmtFin SF 1       2929 non-null float64\n",
      "BsmtFin Type 2     2849 non-null object\n",
      "BsmtFin SF 2       2929 non-null float64\n",
      "Bsmt Unf SF        2929 non-null float64\n",
      "Total Bsmt SF      2929 non-null float64\n",
      "Heating            2930 non-null object\n",
      "Heating QC         2930 non-null object\n",
      "Central Air        2930 non-null object\n",
      "Electrical         2929 non-null object\n",
      "1st Flr SF         2930 non-null int64\n",
      "2nd Flr SF         2930 non-null int64\n",
      "Low Qual Fin SF    2930 non-null int64\n",
      "Gr Liv Area        2930 non-null int64\n",
      "Bsmt Full Bath     2928 non-null float64\n",
      "Bsmt Half Bath     2928 non-null float64\n",
      "Full Bath          2930 non-null int64\n",
      "Half Bath          2930 non-null int64\n",
      "Bedroom AbvGr      2930 non-null int64\n",
      "Kitchen AbvGr      2930 non-null int64\n",
      "Kitchen Qual       2930 non-null object\n",
      "TotRms AbvGrd      2930 non-null int64\n",
      "Functional         2930 non-null object\n",
      "Fireplaces         2930 non-null int64\n",
      "Fireplace Qu       1508 non-null object\n",
      "Garage Type        2773 non-null object\n",
      "Garage Yr Blt      2771 non-null float64\n",
      "Garage Finish      2771 non-null object\n",
      "Garage Cars        2929 non-null float64\n",
      "Garage Area        2929 non-null float64\n",
      "Garage Qual        2771 non-null object\n",
      "Garage Cond        2771 non-null object\n",
      "Paved Drive        2930 non-null object\n",
      "Wood Deck SF       2930 non-null int64\n",
      "Open Porch SF      2930 non-null int64\n",
      "Enclosed Porch     2930 non-null int64\n",
      "3Ssn Porch         2930 non-null int64\n",
      "Screen Porch       2930 non-null int64\n",
      "Pool Area          2930 non-null int64\n",
      "Pool QC            13 non-null object\n",
      "Fence              572 non-null object\n",
      "Misc Feature       106 non-null object\n",
      "Misc Val           2930 non-null int64\n",
      "Mo Sold            2930 non-null int64\n",
      "Yr Sold            2930 non-null int64\n",
      "Sale Type          2930 non-null object\n",
      "Sale Condition     2930 non-null object\n",
      "SalePrice          2930 non-null int64\n",
      "dtypes: float64(11), int64(28), object(43)\n",
      "memory usage: 1.8+ MB\n"
     ]
    }
   ],
   "source": [
    "data.info()"
   ]
  },
  {
   "cell_type": "code",
   "execution_count": 29,
   "metadata": {
    "collapsed": true
   },
   "outputs": [],
   "source": [
    "def transform_features(df):\n",
    "    return df"
   ]
  },
  {
   "cell_type": "code",
   "execution_count": 30,
   "metadata": {
    "collapsed": true
   },
   "outputs": [],
   "source": [
    "def select_features(df):\n",
    "    return df[['Gr Liv Area','SalePrice']]"
   ]
  },
  {
   "cell_type": "code",
   "execution_count": 31,
   "metadata": {
    "collapsed": true
   },
   "outputs": [],
   "source": [
    "def train_and_test(df):\n",
    "    train = df[0:1460]\n",
    "    test = df[1460:]\n",
    "    \n",
    "    # Make sure to only select numerical columns\n",
    "    train_numeric = train.select_dtypes(include=['integer','float'])\n",
    "    test_numeric = test.select_dtypes(include=['integer','float'])\n",
    "    \n",
    "    # Drop the column that we would like to predict\n",
    "    train_subset = train_numeric.drop('SalePrice',axis=1)\n",
    "    test_subset = test_numeric.drop('SalePrice',axis=1)\n",
    "    \n",
    "    lr = LinearRegression()\n",
    "    lr.fit(train_subset, train_numeric['SalePrice'])\n",
    "\n",
    "    test_predictions = lr.predict(test_subset)\n",
    "    \n",
    "    test_rmse = np.sqrt(mean_squared_error(test_numeric['SalePrice'], test_predictions))               \n",
    "    \n",
    "    return test_rmse\n",
    "    "
   ]
  },
  {
   "cell_type": "code",
   "execution_count": 32,
   "metadata": {
    "collapsed": false
   },
   "outputs": [
    {
     "name": "stdout",
     "output_type": "stream",
     "text": [
      "57088.25161263909\n"
     ]
    }
   ],
   "source": [
    "# testing the functions\n",
    "trans_df = transform_features(data)\n",
    "filtered = select_features(trans_df)\n",
    "rmse = train_and_test(filtered)\n",
    "print(rmse)"
   ]
  },
  {
   "cell_type": "markdown",
   "metadata": {
    "collapsed": true
   },
   "source": [
    "## Feature engineering"
   ]
  },
  {
   "cell_type": "markdown",
   "metadata": {},
   "source": [
    "Now we'll prepare the dataset for machine learning by:\n",
    "\n",
    "- Removing features that are not useful for machine learning\n",
    "- Removing features that leak data about the final sale\n",
    "- Removing numeric columns with >= 5% missing values\n",
    "- Drop any text columns with 1 or more missing values for now\n",
    "- Filling in the missing values for remaining columns with the mean\n",
    "- Creating new features by combining other features"
   ]
  },
  {
   "cell_type": "code",
   "execution_count": 33,
   "metadata": {
    "collapsed": false
   },
   "outputs": [],
   "source": [
    "# remove columns with >= 5% null values\n",
    "df_null = data.isnull().sum()\n",
    "desired_columns = df_null[df_null < round(0.05*len(data),0)]\n",
    "df_subset = data[desired_columns.index]\n"
   ]
  },
  {
   "cell_type": "code",
   "execution_count": 34,
   "metadata": {
    "collapsed": false
   },
   "outputs": [
    {
     "name": "stderr",
     "output_type": "stream",
     "text": [
      "/dataquest/system/env/python3/lib/python3.4/site-packages/pandas/core/frame.py:2540: SettingWithCopyWarning:\n",
      "\n",
      "\n",
      "A value is trying to be set on a copy of a slice from a DataFrame.\n",
      "Try using .loc[row_indexer,col_indexer] = value instead\n",
      "\n",
      "See the caveats in the documentation: http://pandas.pydata.org/pandas-docs/stable/indexing.html#indexing-view-versus-copy\n",
      "\n"
     ]
    }
   ],
   "source": [
    "# filling in missing values in numerical columns with mean\n",
    "numeric_columns = df_subset.select_dtypes(include=['integer','float']).columns\n",
    "df_subset[numeric_columns] = df_subset[numeric_columns].copy().fillna(df_subset[numeric_columns].mean())\n",
    "# df_subset.head(5)\n"
   ]
  },
  {
   "cell_type": "code",
   "execution_count": 35,
   "metadata": {
    "collapsed": false
   },
   "outputs": [],
   "source": [
    "# removing text columns with >1 missing value\n",
    "text_cols = df_subset.select_dtypes(include=['object']).columns\n",
    "text_null = df_subset[text_cols].isnull().sum()\n",
    "null_text_colls = text_null[text_null > 0]\n",
    "df_subset = df_subset.drop(null_text_colls.index,axis=1)\n"
   ]
  },
  {
   "cell_type": "code",
   "execution_count": 36,
   "metadata": {
    "collapsed": false
   },
   "outputs": [],
   "source": [
    "# Creating new features by combining other features (year columns)\n",
    "df_subset['years_since_remod'] = df_subset['Yr Sold'] - df_subset['Year Remod/Add']\n",
    "df_subset['age'] = df_subset['Yr Sold'] - df_subset['Year Built']\n",
    "df_subset = df_subset[df_subset['age'] >= 0]\n",
    "df_subset = df_subset[df_subset['years_since_remod'] >= 0]\n"
   ]
  },
  {
   "cell_type": "code",
   "execution_count": 37,
   "metadata": {
    "collapsed": false
   },
   "outputs": [],
   "source": [
    "# remove columns that leak data about the final sale\n",
    "# remove columns that aren't useful for machine learning\n",
    "df_filtered = df_subset.drop(['Mo Sold','Yr Sold','Sale Type','Sale Condition','PID','Order','Year Remod/Add','Year Built'],axis=1)\n"
   ]
  },
  {
   "cell_type": "code",
   "execution_count": 38,
   "metadata": {
    "collapsed": false
   },
   "outputs": [
    {
     "name": "stdout",
     "output_type": "stream",
     "text": [
      "<class 'pandas.core.frame.DataFrame'>\n",
      "Int64Index: 2927 entries, 0 to 2929\n",
      "Data columns (total 58 columns):\n",
      "MS SubClass          2927 non-null int64\n",
      "MS Zoning            2927 non-null object\n",
      "Lot Area             2927 non-null int64\n",
      "Street               2927 non-null object\n",
      "Lot Shape            2927 non-null object\n",
      "Land Contour         2927 non-null object\n",
      "Utilities            2927 non-null object\n",
      "Lot Config           2927 non-null object\n",
      "Land Slope           2927 non-null object\n",
      "Neighborhood         2927 non-null object\n",
      "Condition 1          2927 non-null object\n",
      "Condition 2          2927 non-null object\n",
      "Bldg Type            2927 non-null object\n",
      "House Style          2927 non-null object\n",
      "Overall Qual         2927 non-null int64\n",
      "Overall Cond         2927 non-null int64\n",
      "Roof Style           2927 non-null object\n",
      "Roof Matl            2927 non-null object\n",
      "Exterior 1st         2927 non-null object\n",
      "Exterior 2nd         2927 non-null object\n",
      "Mas Vnr Area         2927 non-null float64\n",
      "Exter Qual           2927 non-null object\n",
      "Exter Cond           2927 non-null object\n",
      "Foundation           2927 non-null object\n",
      "BsmtFin SF 1         2927 non-null float64\n",
      "BsmtFin SF 2         2927 non-null float64\n",
      "Bsmt Unf SF          2927 non-null float64\n",
      "Total Bsmt SF        2927 non-null float64\n",
      "Heating              2927 non-null object\n",
      "Heating QC           2927 non-null object\n",
      "Central Air          2927 non-null object\n",
      "1st Flr SF           2927 non-null int64\n",
      "2nd Flr SF           2927 non-null int64\n",
      "Low Qual Fin SF      2927 non-null int64\n",
      "Gr Liv Area          2927 non-null int64\n",
      "Bsmt Full Bath       2927 non-null float64\n",
      "Bsmt Half Bath       2927 non-null float64\n",
      "Full Bath            2927 non-null int64\n",
      "Half Bath            2927 non-null int64\n",
      "Bedroom AbvGr        2927 non-null int64\n",
      "Kitchen AbvGr        2927 non-null int64\n",
      "Kitchen Qual         2927 non-null object\n",
      "TotRms AbvGrd        2927 non-null int64\n",
      "Functional           2927 non-null object\n",
      "Fireplaces           2927 non-null int64\n",
      "Garage Cars          2927 non-null float64\n",
      "Garage Area          2927 non-null float64\n",
      "Paved Drive          2927 non-null object\n",
      "Wood Deck SF         2927 non-null int64\n",
      "Open Porch SF        2927 non-null int64\n",
      "Enclosed Porch       2927 non-null int64\n",
      "3Ssn Porch           2927 non-null int64\n",
      "Screen Porch         2927 non-null int64\n",
      "Pool Area            2927 non-null int64\n",
      "Misc Val             2927 non-null int64\n",
      "SalePrice            2927 non-null int64\n",
      "years_since_remod    2927 non-null int64\n",
      "age                  2927 non-null int64\n",
      "dtypes: float64(9), int64(24), object(25)\n",
      "memory usage: 1.3+ MB\n"
     ]
    }
   ],
   "source": [
    "df_filtered.info()"
   ]
  },
  {
   "cell_type": "code",
   "execution_count": 39,
   "metadata": {
    "collapsed": true
   },
   "outputs": [],
   "source": [
    "# Modifying the transform features function\n",
    "def transform_features(df):\n",
    "    \n",
    "    # remove columns with >= 5% null values\n",
    "    df_null = df.isnull().sum()\n",
    "    desired_columns = df_null[df_null < round(0.05*len(df),0)]\n",
    "    df_subset = df[desired_columns.index]\n",
    "    \n",
    "    # filling in missing values in numerical columns with mean\n",
    "    numeric_columns = df_subset.select_dtypes(include=['integer','float']).columns\n",
    "    df_subset[numeric_columns] = df_subset[numeric_columns].copy().fillna(df_subset[numeric_columns].mean())\n",
    "    \n",
    "    # removing text columns with >1 missing value\n",
    "    text_cols = df_subset.select_dtypes(include=['object']).columns\n",
    "    text_null = df_subset[text_cols].isnull().sum()\n",
    "    null_text_colls = text_null[text_null > 0]\n",
    "    df_subset = df_subset.drop(null_text_colls.index,axis=1)\n",
    "    \n",
    "    # Creating new features by combining other features (year columns)\n",
    "    df_subset['years_since_remod'] = df_subset['Yr Sold'] - df_subset['Year Remod/Add']\n",
    "    df_subset['age'] = df_subset['Yr Sold'] - df_subset['Year Built']\n",
    "    df_subset = df_subset[df_subset['age'] >= 0]\n",
    "    df_subset = df_subset[df_subset['years_since_remod'] >= 0]\n",
    "    \n",
    "    # remove columns that leak data about the final sale\n",
    "    # remove columns that aren't useful for machine learning\n",
    "    df_filtered = df_subset.drop(['Mo Sold','Yr Sold','Sale Type','Sale Condition','PID','Order','Year Remod/Add','Year Built'],axis=1)\n",
    "\n",
    "    return df_filtered"
   ]
  },
  {
   "cell_type": "code",
   "execution_count": 40,
   "metadata": {
    "collapsed": false
   },
   "outputs": [
    {
     "name": "stderr",
     "output_type": "stream",
     "text": [
      "/dataquest/system/env/python3/lib/python3.4/site-packages/pandas/core/frame.py:2540: SettingWithCopyWarning:\n",
      "\n",
      "\n",
      "A value is trying to be set on a copy of a slice from a DataFrame.\n",
      "Try using .loc[row_indexer,col_indexer] = value instead\n",
      "\n",
      "See the caveats in the documentation: http://pandas.pydata.org/pandas-docs/stable/indexing.html#indexing-view-versus-copy\n",
      "\n"
     ]
    },
    {
     "name": "stdout",
     "output_type": "stream",
     "text": [
      "55275.36731241307\n"
     ]
    }
   ],
   "source": [
    "# testing the revised function\n",
    "\n",
    "trans_df = transform_features(data)\n",
    "filtered = select_features(trans_df)\n",
    "rmse = train_and_test(filtered)\n",
    "print(rmse)"
   ]
  },
  {
   "cell_type": "markdown",
   "metadata": {},
   "source": [
    "## Feature selection"
   ]
  },
  {
   "cell_type": "markdown",
   "metadata": {},
   "source": [
    "Now that we have cleaned and transformed a lot of the features in the data set, it's time to move on to feature selection for numerical features. We'll start by seeing which columns correlate most strongly with the SalePrice column."
   ]
  },
  {
   "cell_type": "code",
   "execution_count": 41,
   "metadata": {
    "collapsed": false
   },
   "outputs": [
    {
     "data": {
      "text/plain": [
       "<matplotlib.axes._subplots.AxesSubplot at 0x7fd7e0e7a518>"
      ]
     },
     "execution_count": 41,
     "metadata": {},
     "output_type": "execute_result"
    },
    {
     "data": {
      "image/png": "[encoded data removed]",
      "text/plain": [
       "<matplotlib.figure.Figure at 0x7fd7dee02b00>"
      ]
     },
     "metadata": {},
     "output_type": "display_data"
    }
   ],
   "source": [
    "# retaining only numerical columns\n",
    "filtered_numeric = df_filtered.select_dtypes(include=['integer','float'])\n",
    "\n",
    "# Plotting a heatmap of correlation coefficients\n",
    "corrs = filtered_numeric.corr()\n",
    "plt.figure(figsize = (10,7))\n",
    "sns.heatmap(corrs)\n"
   ]
  },
  {
   "cell_type": "markdown",
   "metadata": {},
   "source": [
    "From the heatmap, we can see that the following columns appear to correlate most strongly with our target SalePrice column:\n",
    "\n",
    "- Overall Qual\n",
    "- Total Bsmt SF\n",
    "- 1st Flr SF\n",
    "- Gr Liv Area\n",
    "- Garage Cars\n",
    "- Garage Area\n",
    "\n",
    "To avoid dropping too many columns as this stage, let's keep columns that have a correlation of >=0.5."
   ]
  },
  {
   "cell_type": "code",
   "execution_count": 42,
   "metadata": {
    "collapsed": false
   },
   "outputs": [
    {
     "data": {
      "text/plain": [
       "MS SubClass       -0.085128\n",
       "Lot Area           0.267520\n",
       "Overall Cond      -0.101540\n",
       "BsmtFin SF 1       0.438928\n",
       "BsmtFin SF 2       0.006000\n",
       "Bsmt Unf SF        0.182248\n",
       "2nd Flr SF         0.269601\n",
       "Low Qual Fin SF   -0.037629\n",
       "Bsmt Full Bath     0.276329\n",
       "Bsmt Half Bath    -0.035874\n",
       "Half Bath          0.284871\n",
       "Bedroom AbvGr      0.143916\n",
       "Kitchen AbvGr     -0.119760\n",
       "TotRms AbvGrd      0.498574\n",
       "Fireplaces         0.474831\n",
       "Wood Deck SF       0.328183\n",
       "Open Porch SF      0.316262\n",
       "Enclosed Porch    -0.128685\n",
       "3Ssn Porch         0.032268\n",
       "Screen Porch       0.112280\n",
       "Pool Area          0.068438\n",
       "Misc Val          -0.019273\n",
       "Name: SalePrice, dtype: float64"
      ]
     },
     "execution_count": 42,
     "metadata": {},
     "output_type": "execute_result"
    }
   ],
   "source": [
    "corrs_target = corrs.loc['SalePrice']\n",
    "corrs_drop = corrs_target[(corrs_target < 0.5) & (corrs_target > -0.5)]\n",
    "corrs_drop\n"
   ]
  },
  {
   "cell_type": "code",
   "execution_count": 43,
   "metadata": {
    "collapsed": false
   },
   "outputs": [],
   "source": [
    "df_filtered = df_filtered.drop(corrs_drop.index, axis=1)\n"
   ]
  },
  {
   "cell_type": "markdown",
   "metadata": {},
   "source": [
    "Total Bsmt SF & 1st Flr SF, and Garage Cars & Garage Area correlate strongly with each other. We'll only use Garage Area and Bsmt Flr SF. The former because it is a continuous variable that has more information than Garage Cars, and the latter because the correlation is slighly stronger."
   ]
  },
  {
   "cell_type": "code",
   "execution_count": 44,
   "metadata": {
    "collapsed": false
   },
   "outputs": [
    {
     "name": "stdout",
     "output_type": "stream",
     "text": [
      "<class 'pandas.core.frame.DataFrame'>\n",
      "Int64Index: 2927 entries, 0 to 2929\n",
      "Data columns (total 34 columns):\n",
      "MS Zoning            2927 non-null object\n",
      "Street               2927 non-null object\n",
      "Lot Shape            2927 non-null object\n",
      "Land Contour         2927 non-null object\n",
      "Utilities            2927 non-null object\n",
      "Lot Config           2927 non-null object\n",
      "Land Slope           2927 non-null object\n",
      "Neighborhood         2927 non-null object\n",
      "Condition 1          2927 non-null object\n",
      "Condition 2          2927 non-null object\n",
      "Bldg Type            2927 non-null object\n",
      "House Style          2927 non-null object\n",
      "Overall Qual         2927 non-null int64\n",
      "Roof Style           2927 non-null object\n",
      "Roof Matl            2927 non-null object\n",
      "Exterior 1st         2927 non-null object\n",
      "Exterior 2nd         2927 non-null object\n",
      "Mas Vnr Area         2927 non-null float64\n",
      "Exter Qual           2927 non-null object\n",
      "Exter Cond           2927 non-null object\n",
      "Foundation           2927 non-null object\n",
      "Total Bsmt SF        2927 non-null float64\n",
      "Heating              2927 non-null object\n",
      "Heating QC           2927 non-null object\n",
      "Central Air          2927 non-null object\n",
      "Gr Liv Area          2927 non-null int64\n",
      "Full Bath            2927 non-null int64\n",
      "Kitchen Qual         2927 non-null object\n",
      "Functional           2927 non-null object\n",
      "Garage Area          2927 non-null float64\n",
      "Paved Drive          2927 non-null object\n",
      "SalePrice            2927 non-null int64\n",
      "years_since_remod    2927 non-null int64\n",
      "age                  2927 non-null int64\n",
      "dtypes: float64(3), int64(6), object(25)\n",
      "memory usage: 800.4+ KB\n"
     ]
    }
   ],
   "source": [
    "df_filtered = df_filtered.drop(['Garage Cars','1st Flr SF'], axis=1)\n",
    "df_filtered.info()\n"
   ]
  },
  {
   "cell_type": "markdown",
   "metadata": {},
   "source": [
    "Now we'll look at columns containing nominal data and ordinal data. For these columns, what we'll consider is:\n",
    "\n",
    "- If a categorical column has hundreds of unique values (or categories), should we keep it? \n",
    "- Which columns have a few unique values but more than 95% of the values belong to a specific category? These have low variance and would not contribute much to the target values\n",
    "- Which columns are currently numerical but need to be encoded as categorical instead (because the numbers don't have any semantic meaning)?\n",
    "\n",
    "Then we'll convert the categorical data to dummy values."
   ]
  },
  {
   "cell_type": "code",
   "execution_count": 45,
   "metadata": {
    "collapsed": true
   },
   "outputs": [],
   "source": [
    "nominal_features = [\"PID\", \"MS SubClass\", \"MS Zoning\", \"Street\", \"Alley\", \"Land Contour\", \"Lot Config\", \"Neighborhood\", \n",
    "                    \"Condition 1\", \"Condition 2\", \"Bldg Type\", \"House Style\", \"Roof Style\", \"Roof Matl\", \"Exterior 1st\", \n",
    "                    \"Exterior 2nd\", \"Mas Vnr Type\", \"Foundation\", \"Heating\", \"Central Air\", \"Garage Type\", \n",
    "                    \"Misc Feature\", \"Sale Type\", \"Sale Condition\"]\n"
   ]
  },
  {
   "cell_type": "code",
   "execution_count": 46,
   "metadata": {
    "collapsed": false
   },
   "outputs": [
    {
     "name": "stdout",
     "output_type": "stream",
     "text": [
      "<class 'pandas.core.frame.DataFrame'>\n",
      "Int64Index: 2927 entries, 0 to 2929\n",
      "Data columns (total 31 columns):\n",
      "MS Zoning            2927 non-null object\n",
      "Street               2927 non-null object\n",
      "Lot Shape            2927 non-null object\n",
      "Land Contour         2927 non-null object\n",
      "Utilities            2927 non-null object\n",
      "Lot Config           2927 non-null object\n",
      "Land Slope           2927 non-null object\n",
      "Condition 1          2927 non-null object\n",
      "Condition 2          2927 non-null object\n",
      "Bldg Type            2927 non-null object\n",
      "House Style          2927 non-null object\n",
      "Overall Qual         2927 non-null int64\n",
      "Roof Style           2927 non-null object\n",
      "Roof Matl            2927 non-null object\n",
      "Mas Vnr Area         2927 non-null float64\n",
      "Exter Qual           2927 non-null object\n",
      "Exter Cond           2927 non-null object\n",
      "Foundation           2927 non-null object\n",
      "Total Bsmt SF        2927 non-null float64\n",
      "Heating              2927 non-null object\n",
      "Heating QC           2927 non-null object\n",
      "Central Air          2927 non-null object\n",
      "Gr Liv Area          2927 non-null int64\n",
      "Full Bath            2927 non-null int64\n",
      "Kitchen Qual         2927 non-null object\n",
      "Functional           2927 non-null object\n",
      "Garage Area          2927 non-null float64\n",
      "Paved Drive          2927 non-null object\n",
      "SalePrice            2927 non-null int64\n",
      "years_since_remod    2927 non-null int64\n",
      "age                  2927 non-null int64\n",
      "dtypes: float64(3), int64(6), object(22)\n",
      "memory usage: 731.8+ KB\n"
     ]
    }
   ],
   "source": [
    "## How many unique values in each categorical column?\n",
    "transform_cat_cols = []\n",
    "for col in nominal_features:\n",
    "        if col in df_filtered.columns:\n",
    "            transform_cat_cols.append(col)\n",
    "uniqueness_counts = df_filtered[transform_cat_cols].apply(lambda col: len(col.value_counts())).sort_values()\n",
    "\n",
    "# Aribtrary cutoff of 10 unique values\n",
    "drop_nonuniq_cols = uniqueness_counts[uniqueness_counts > 10].index\n",
    "df_filtered = df_filtered.drop(drop_nonuniq_cols, axis=1)\n",
    "df_filtered.info()"
   ]
  },
  {
   "cell_type": "code",
   "execution_count": 49,
   "metadata": {
    "collapsed": false
   },
   "outputs": [
    {
     "name": "stdout",
     "output_type": "stream",
     "text": [
      "{'Roof Matl': 2884, 'Heating': 2882, 'Central Air': 2731, 'Condition 1': 2520, 'Land Contour': 2632, 'Lot Config': 2138, 'Condition 2': 2898, 'Foundation': 1307, 'MS Zoning': 2270, 'Street': 2915, 'Roof Style': 2320, 'Bldg Type': 2422, 'House Style': 1480}\n",
      "['Roof Matl', 'Heating', 'Condition 2', 'Street']\n"
     ]
    }
   ],
   "source": [
    "# finding columns where >95% of the values are a single value\n",
    "variance = {}\n",
    "\n",
    "for c in df_filtered.columns:\n",
    "    if c in nominal_features:\n",
    "        counts = df_filtered[c].value_counts()\n",
    "        variance[c] = counts[0]\n",
    "\n",
    "print(variance)\n",
    "low_variance = []\n",
    "\n",
    "for key, value in variance.items():\n",
    "    threshold = round(0.95*len(df_filtered))\n",
    "    if value >= threshold:\n",
    "        low_variance.append(key)\n",
    "\n",
    "print(low_variance)"
   ]
  },
  {
   "cell_type": "markdown",
   "metadata": {},
   "source": [
    "From the value counts, we can see that a few categorical columns have >95% of the values in specific category, so we shall drop them."
   ]
  },
  {
   "cell_type": "code",
   "execution_count": 50,
   "metadata": {
    "collapsed": false
   },
   "outputs": [],
   "source": [
    "df_filtered = df_filtered.drop(low_variance,axis=1)"
   ]
  },
  {
   "cell_type": "code",
   "execution_count": 51,
   "metadata": {
    "collapsed": false
   },
   "outputs": [
    {
     "data": {
      "text/html": [
       "<div>\n",
       "<style scoped>\n",
       "    .dataframe tbody tr th:only-of-type {\n",
       "        vertical-align: middle;\n",
       "    }\n",
       "\n",
       "    .dataframe tbody tr th {\n",
       "        vertical-align: top;\n",
       "    }\n",
       "\n",
       "    .dataframe thead th {\n",
       "        text-align: right;\n",
       "    }\n",
       "</style>\n",
       "<table border=\"1\" class=\"dataframe\">\n",
       "  <thead>\n",
       "    <tr style=\"text-align: right;\">\n",
       "      <th></th>\n",
       "      <th>Overall Qual</th>\n",
       "      <th>Mas Vnr Area</th>\n",
       "      <th>Total Bsmt SF</th>\n",
       "      <th>Gr Liv Area</th>\n",
       "      <th>Full Bath</th>\n",
       "      <th>Garage Area</th>\n",
       "      <th>SalePrice</th>\n",
       "      <th>years_since_remod</th>\n",
       "      <th>age</th>\n",
       "      <th>MS Zoning_A (agr)</th>\n",
       "      <th>...</th>\n",
       "      <th>Functional_Maj2</th>\n",
       "      <th>Functional_Min1</th>\n",
       "      <th>Functional_Min2</th>\n",
       "      <th>Functional_Mod</th>\n",
       "      <th>Functional_Sal</th>\n",
       "      <th>Functional_Sev</th>\n",
       "      <th>Functional_Typ</th>\n",
       "      <th>Paved Drive_N</th>\n",
       "      <th>Paved Drive_P</th>\n",
       "      <th>Paved Drive_Y</th>\n",
       "    </tr>\n",
       "  </thead>\n",
       "  <tbody>\n",
       "    <tr>\n",
       "      <th>0</th>\n",
       "      <td>6</td>\n",
       "      <td>112.0</td>\n",
       "      <td>1080.0</td>\n",
       "      <td>1656</td>\n",
       "      <td>1</td>\n",
       "      <td>528.0</td>\n",
       "      <td>215000</td>\n",
       "      <td>50</td>\n",
       "      <td>50</td>\n",
       "      <td>0</td>\n",
       "      <td>...</td>\n",
       "      <td>0</td>\n",
       "      <td>0</td>\n",
       "      <td>0</td>\n",
       "      <td>0</td>\n",
       "      <td>0</td>\n",
       "      <td>0</td>\n",
       "      <td>1</td>\n",
       "      <td>0</td>\n",
       "      <td>1</td>\n",
       "      <td>0</td>\n",
       "    </tr>\n",
       "    <tr>\n",
       "      <th>1</th>\n",
       "      <td>5</td>\n",
       "      <td>0.0</td>\n",
       "      <td>882.0</td>\n",
       "      <td>896</td>\n",
       "      <td>1</td>\n",
       "      <td>730.0</td>\n",
       "      <td>105000</td>\n",
       "      <td>49</td>\n",
       "      <td>49</td>\n",
       "      <td>0</td>\n",
       "      <td>...</td>\n",
       "      <td>0</td>\n",
       "      <td>0</td>\n",
       "      <td>0</td>\n",
       "      <td>0</td>\n",
       "      <td>0</td>\n",
       "      <td>0</td>\n",
       "      <td>1</td>\n",
       "      <td>0</td>\n",
       "      <td>0</td>\n",
       "      <td>1</td>\n",
       "    </tr>\n",
       "    <tr>\n",
       "      <th>2</th>\n",
       "      <td>6</td>\n",
       "      <td>108.0</td>\n",
       "      <td>1329.0</td>\n",
       "      <td>1329</td>\n",
       "      <td>1</td>\n",
       "      <td>312.0</td>\n",
       "      <td>172000</td>\n",
       "      <td>52</td>\n",
       "      <td>52</td>\n",
       "      <td>0</td>\n",
       "      <td>...</td>\n",
       "      <td>0</td>\n",
       "      <td>0</td>\n",
       "      <td>0</td>\n",
       "      <td>0</td>\n",
       "      <td>0</td>\n",
       "      <td>0</td>\n",
       "      <td>1</td>\n",
       "      <td>0</td>\n",
       "      <td>0</td>\n",
       "      <td>1</td>\n",
       "    </tr>\n",
       "    <tr>\n",
       "      <th>3</th>\n",
       "      <td>7</td>\n",
       "      <td>0.0</td>\n",
       "      <td>2110.0</td>\n",
       "      <td>2110</td>\n",
       "      <td>2</td>\n",
       "      <td>522.0</td>\n",
       "      <td>244000</td>\n",
       "      <td>42</td>\n",
       "      <td>42</td>\n",
       "      <td>0</td>\n",
       "      <td>...</td>\n",
       "      <td>0</td>\n",
       "      <td>0</td>\n",
       "      <td>0</td>\n",
       "      <td>0</td>\n",
       "      <td>0</td>\n",
       "      <td>0</td>\n",
       "      <td>1</td>\n",
       "      <td>0</td>\n",
       "      <td>0</td>\n",
       "      <td>1</td>\n",
       "    </tr>\n",
       "    <tr>\n",
       "      <th>4</th>\n",
       "      <td>5</td>\n",
       "      <td>0.0</td>\n",
       "      <td>928.0</td>\n",
       "      <td>1629</td>\n",
       "      <td>2</td>\n",
       "      <td>482.0</td>\n",
       "      <td>189900</td>\n",
       "      <td>12</td>\n",
       "      <td>13</td>\n",
       "      <td>0</td>\n",
       "      <td>...</td>\n",
       "      <td>0</td>\n",
       "      <td>0</td>\n",
       "      <td>0</td>\n",
       "      <td>0</td>\n",
       "      <td>0</td>\n",
       "      <td>0</td>\n",
       "      <td>1</td>\n",
       "      <td>0</td>\n",
       "      <td>0</td>\n",
       "      <td>1</td>\n",
       "    </tr>\n",
       "  </tbody>\n",
       "</table>\n",
       "<p>5 rows × 101 columns</p>\n",
       "</div>"
      ],
      "text/plain": [
       "   Overall Qual  Mas Vnr Area  Total Bsmt SF  Gr Liv Area  Full Bath  \\\n",
       "0             6         112.0         1080.0         1656          1   \n",
       "1             5           0.0          882.0          896          1   \n",
       "2             6         108.0         1329.0         1329          1   \n",
       "3             7           0.0         2110.0         2110          2   \n",
       "4             5           0.0          928.0         1629          2   \n",
       "\n",
       "   Garage Area  SalePrice  years_since_remod  age  MS Zoning_A (agr)  \\\n",
       "0        528.0     215000                 50   50                  0   \n",
       "1        730.0     105000                 49   49                  0   \n",
       "2        312.0     172000                 52   52                  0   \n",
       "3        522.0     244000                 42   42                  0   \n",
       "4        482.0     189900                 12   13                  0   \n",
       "\n",
       "       ...        Functional_Maj2  Functional_Min1  Functional_Min2  \\\n",
       "0      ...                      0                0                0   \n",
       "1      ...                      0                0                0   \n",
       "2      ...                      0                0                0   \n",
       "3      ...                      0                0                0   \n",
       "4      ...                      0                0                0   \n",
       "\n",
       "   Functional_Mod  Functional_Sal  Functional_Sev  Functional_Typ  \\\n",
       "0               0               0               0               1   \n",
       "1               0               0               0               1   \n",
       "2               0               0               0               1   \n",
       "3               0               0               0               1   \n",
       "4               0               0               0               1   \n",
       "\n",
       "   Paved Drive_N  Paved Drive_P  Paved Drive_Y  \n",
       "0              0              1              0  \n",
       "1              0              0              1  \n",
       "2              0              0              1  \n",
       "3              0              0              1  \n",
       "4              0              0              1  \n",
       "\n",
       "[5 rows x 101 columns]"
      ]
     },
     "execution_count": 51,
     "metadata": {},
     "output_type": "execute_result"
    }
   ],
   "source": [
    "# Select just the remaining text columns and convert to categorical\n",
    "text_cols = df_filtered.select_dtypes(include=['object'])\n",
    "for col in text_cols:\n",
    "    df_filtered[col] = df_filtered[col].astype('category')\n",
    "    \n",
    "# Create dummy columns and add back to the dataframe\n",
    "df_filtered = pd.concat([\n",
    "    df_filtered, \n",
    "    pd.get_dummies(df_filtered.select_dtypes(include=['category']))\n",
    "], axis=1).drop(text_cols,axis=1)\n",
    "\n",
    "df_filtered.head(5)"
   ]
  },
  {
   "cell_type": "markdown",
   "metadata": {
    "collapsed": true
   },
   "source": [
    "Now that we've worked through the steps for selecting features, we'll updated the select_features functions."
   ]
  },
  {
   "cell_type": "code",
   "execution_count": 52,
   "metadata": {
    "collapsed": true
   },
   "outputs": [],
   "source": [
    "def select_features(df, coeff_threshold=0.5, uniq_threshold=10):\n",
    "    \n",
    "    # retaining only numerical columns\n",
    "    filtered_numeric = df.select_dtypes(include=['integer','float'])\n",
    "    \n",
    "    # Calculating correlations with SalePrice column\n",
    "    # Retain those within desired threshold\n",
    "    corrs = filtered_numeric.corr()\n",
    "    corrs_target = corrs.loc['SalePrice']\n",
    "    corrs_drop = corrs_target[(corrs_target < coeff_threshold) & (corrs_target > -coeff_threshold)]\n",
    "    df = df.drop(corrs_drop.index, axis=1)\n",
    "    \n",
    "    # Only keep nominal columns with 10 or less unique values\n",
    "    nominal_features = [\"PID\", \"MS SubClass\", \"MS Zoning\", \"Street\", \"Alley\", \"Land Contour\", \"Lot Config\", \"Neighborhood\", \n",
    "                    \"Condition 1\", \"Condition 2\", \"Bldg Type\", \"House Style\", \"Roof Style\", \"Roof Matl\", \"Exterior 1st\", \n",
    "                    \"Exterior 2nd\", \"Mas Vnr Type\", \"Foundation\", \"Heating\", \"Central Air\", \"Garage Type\", \n",
    "                    \"Misc Feature\", \"Sale Type\", \"Sale Condition\"]\n",
    "    \n",
    "    transform_cat_cols = []\n",
    "    for col in nominal_features:\n",
    "        if col in df.columns:\n",
    "            transform_cat_cols.append(col)\n",
    "\n",
    "    uniqueness_counts = df[transform_cat_cols].apply(lambda col: len(col.value_counts())).sort_values()\n",
    "    drop_nonuniq_cols = uniqueness_counts[uniqueness_counts > uniq_threshold].index\n",
    "    df = df.drop(drop_nonuniq_cols, axis=1)\n",
    "    \n",
    "    # finding columns where >95% of the values are a single value\n",
    "    variance = {}\n",
    "    \n",
    "    for c in df.columns:\n",
    "        if c in nominal_features:\n",
    "            counts = df[c].value_counts()\n",
    "            variance[c] = counts[0]\n",
    "\n",
    "    low_variance = []\n",
    "\n",
    "    for key, value in variance.items():\n",
    "        threshold = round(0.95*len(df_filtered))\n",
    "        if value >= threshold:\n",
    "            low_variance.append(key)\n",
    "    \n",
    "    # Drop these columns\n",
    "    df = df.drop(low_variance,axis=1)\n",
    "    \n",
    "    # Select just the remaining text columns and convert to categorical\n",
    "    text_cols = df.select_dtypes(include=['object'])\n",
    "    for col in text_cols:\n",
    "        df[col] = df[col].astype('category')\n",
    "    \n",
    "    # Create dummy columns and add back to the dataframe\n",
    "    df = pd.concat([df, \n",
    "                    pd.get_dummies(df.select_dtypes(include=['category']))], \n",
    "                            axis=1).drop(text_cols,axis=1)\n",
    "    \n",
    "    return df"
   ]
  },
  {
   "cell_type": "markdown",
   "metadata": {},
   "source": [
    "## Training and testing the model"
   ]
  },
  {
   "cell_type": "markdown",
   "metadata": {},
   "source": [
    "Now we'll develop the function for training and testing the model based on the features we have engineered and selected. As we have multiple features, we'll use simple validation."
   ]
  },
  {
   "cell_type": "code",
   "execution_count": 57,
   "metadata": {
    "collapsed": true
   },
   "outputs": [],
   "source": [
    "def train_and_test(df, k=0):\n",
    "    # Make sure to only select numerical columns\n",
    "    numeric = df.select_dtypes(include=['integer','float'])\n",
    "    features = numeric.drop('SalePrice',axis=1).columns\n",
    "    lr = LinearRegression()\n",
    "    \n",
    "    # holdout validation\n",
    "    if k == 0:\n",
    "        train = df[0:1460]\n",
    "        test = df[1460:]\n",
    "        \n",
    "        lr.fit(train[features], train['SalePrice'])\n",
    "        test_predictions = lr.predict(test[features])\n",
    "        test_rmse = np.sqrt(mean_squared_error(test['SalePrice'], test_predictions))               \n",
    "    \n",
    "        return test_rmse\n",
    "\n",
    "    # simple cross validation\n",
    "    if k == 1:\n",
    "        # Shuffle the order of rows\n",
    "        rand = np.random.permutation(df.index)\n",
    "        df = df.reindex(rand)\n",
    "        \n",
    "        # split into 2 folds\n",
    "        fold_one = df[0:1460]\n",
    "        fold_two = df[1460:]\n",
    "        \n",
    "        # train and test on each fold\n",
    "        lr.fit(fold_one[features], fold_one['SalePrice'])\n",
    "        foldtwo_predictions = lr.predict(fold_two[features])\n",
    "        two_rmse = np.sqrt(mean_squared_error(fold_two['SalePrice'], foldtwo_predictions))\n",
    "        \n",
    "        lr.fit(fold_two[features], fold_two['SalePrice'])\n",
    "        foldone_predictions = lr.predict(fold_one[features])\n",
    "        one_rmse = np.sqrt(mean_squared_error(fold_one['SalePrice'], foldone_predictions))               \n",
    "        \n",
    "        avg_rmse = np.mean([two_rmse, one_rmse])\n",
    "        return avg_rmse\n",
    "    \n",
    "    else:\n",
    "        kf = KFold(k, shuffle=True, random_state=1)\n",
    "        \n",
    "        mses = cross_val_score(lr, df[features], df['SalePrice'], scoring=\"neg_mean_squared_error\", cv=kf)\n",
    "        \n",
    "        rmses = np.sqrt(np.absolute(mses))\n",
    "        avg_rmse_kfold = np.mean(rmses)\n",
    "        return (avg_rmse_kfold, rmses)\n",
    "    "
   ]
  },
  {
   "cell_type": "code",
   "execution_count": 58,
   "metadata": {
    "collapsed": false
   },
   "outputs": [
    {
     "name": "stderr",
     "output_type": "stream",
     "text": [
      "/dataquest/system/env/python3/lib/python3.4/site-packages/pandas/core/frame.py:2540: SettingWithCopyWarning:\n",
      "\n",
      "\n",
      "A value is trying to be set on a copy of a slice from a DataFrame.\n",
      "Try using .loc[row_indexer,col_indexer] = value instead\n",
      "\n",
      "See the caveats in the documentation: http://pandas.pydata.org/pandas-docs/stable/indexing.html#indexing-view-versus-copy\n",
      "\n"
     ]
    },
    {
     "name": "stdout",
     "output_type": "stream",
     "text": [
      "33338.303397020325\n"
     ]
    }
   ],
   "source": [
    "# testing the revised functions\n",
    "\n",
    "trans_df = transform_features(data)\n",
    "filtered = select_features(trans_df)\n",
    "rmse = train_and_test(filtered,k=0)\n",
    "print(rmse)"
   ]
  },
  {
   "cell_type": "code",
   "execution_count": 59,
   "metadata": {
    "collapsed": false
   },
   "outputs": [
    {
     "name": "stderr",
     "output_type": "stream",
     "text": [
      "/dataquest/system/env/python3/lib/python3.4/site-packages/pandas/core/frame.py:2540: SettingWithCopyWarning:\n",
      "\n",
      "\n",
      "A value is trying to be set on a copy of a slice from a DataFrame.\n",
      "Try using .loc[row_indexer,col_indexer] = value instead\n",
      "\n",
      "See the caveats in the documentation: http://pandas.pydata.org/pandas-docs/stable/indexing.html#indexing-view-versus-copy\n",
      "\n"
     ]
    },
    {
     "name": "stdout",
     "output_type": "stream",
     "text": [
      "31311.81181413907\n"
     ]
    }
   ],
   "source": [
    "# testing the revised functions\n",
    "\n",
    "trans_df = transform_features(data)\n",
    "filtered = select_features(trans_df)\n",
    "rmse = train_and_test(filtered,k=1)\n",
    "print(rmse)"
   ]
  },
  {
   "cell_type": "code",
   "execution_count": 60,
   "metadata": {
    "collapsed": false
   },
   "outputs": [
    {
     "name": "stderr",
     "output_type": "stream",
     "text": [
      "/dataquest/system/env/python3/lib/python3.4/site-packages/pandas/core/frame.py:2540: SettingWithCopyWarning:\n",
      "\n",
      "\n",
      "A value is trying to be set on a copy of a slice from a DataFrame.\n",
      "Try using .loc[row_indexer,col_indexer] = value instead\n",
      "\n",
      "See the caveats in the documentation: http://pandas.pydata.org/pandas-docs/stable/indexing.html#indexing-view-versus-copy\n",
      "\n"
     ]
    },
    {
     "name": "stdout",
     "output_type": "stream",
     "text": [
      "(30159.191616211654, array([36334.47847988, 26635.04235577, 27575.6083289 , 30091.6373003 ]))\n"
     ]
    }
   ],
   "source": [
    "# testing the revised functions\n",
    "\n",
    "trans_df = transform_features(data)\n",
    "filtered = select_features(trans_df)\n",
    "rmse = train_and_test(filtered,k=4)\n",
    "print(rmse)"
   ]
  },
  {
   "cell_type": "markdown",
   "metadata": {
    "collapsed": true
   },
   "source": [
    "Possible next steps:\n",
    "\n",
    "- Continue iteration on feature engineering:\n",
    "\n",
    "    - Reserach some other approaches to feature engineering online around housing data.\n",
    "    - Visit the Kaggle kernels page for this dataset to see approaches others took.\n",
    "\n",
    "- Improve your feature selection:\n",
    "    - Research ways of doing feature selection better with categorical columns (something we didn't cover in this particular course)."
   ]
  },
  {
   "cell_type": "markdown",
   "metadata": {},
   "source": [
    "## Conclusion"
   ]
  },
  {
   "cell_type": "markdown",
   "metadata": {},
   "source": [
    "We selected features and tested linear regression models on a set of housing data, and what we found was that using 4-fold cross validation produced better results (smaller mean squared errors) than holdout validation or simple cross validation."
   ]
  },
  {
   "cell_type": "code",
   "execution_count": null,
   "metadata": {
    "collapsed": true
   },
   "outputs": [],
   "source": []
  }
 ],
 "metadata": {
  "anaconda-cloud": {},
  "kernelspec": {
   "display_name": "Python 3",
   "language": "python",
   "name": "python3"
  },
  "language_info": {
   "codemirror_mode": {
    "name": "ipython",
    "version": 3
   },
   "file_extension": ".py",
   "mimetype": "text/x-python",
   "name": "python",
   "nbconvert_exporter": "python",
   "pygments_lexer": "ipython3",
   "version": "3.4.3"
  }
 },
 "nbformat": 4,
 "nbformat_minor": 2
}
