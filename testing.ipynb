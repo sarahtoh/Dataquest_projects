{
 "cells": [
  {
   "cell_type": "markdown",
   "metadata": {},
   "source": [
    "# Analysing the accuracy of Fandango's movie ratings"
   ]
  },
  {
   "cell_type": "markdown",
   "metadata": {},
   "source": [
    "In October 2015, a data journalist named Walt Hickey from FiveThirtyEight analyzed [movie ratings data](https://fivethirtyeight.com/features/fandango-movies-ratings/) and found strong evidence to suggest that Fandango's rating system was biased, generally displaying higher ratings than what the movie actually received.\n",
    "\n",
    "Fandango's officials replied that the biased rounding off was caused by a bug in their system rather than being intentional, and they promised to fix the bug as soon as possible. In this project, we'll compare Fandango's data from Hickey's analysis and from movies released in 2016 & 2017 to determine whether there has been any change in Fandango's rating system.\n",
    "\n",
    "Both datasets are available on Github:\n",
    "- [Hickey's data](https://github.com/fivethirtyeight/data/tree/master/fandango)\n",
    "- [2016 & 2017 data](https://github.com/mircealex/Movie_ratings_2016_17)"
   ]
  },
  {
   "cell_type": "code",
   "execution_count": 2,
   "metadata": {
    "collapsed": false
   },
   "outputs": [],
   "source": [
    "import pandas as pd\n",
    "import matplotlib.pyplot as plt\n",
    "import numpy as np\n",
    "import seaborn as sns\n",
    "%matplotlib inline"
   ]
  },
  {
   "cell_type": "markdown",
   "metadata": {},
   "source": [
    "## Exploring the data and selecting what we need"
   ]
  },
  {
   "cell_type": "code",
   "execution_count": 3,
   "metadata": {
    "collapsed": false
   },
   "outputs": [],
   "source": [
    "# reading in Hickey's data\n",
    "fandango = pd.read_csv('fandango_score_comparison.csv')\n",
    "# reading in the data for movies released in 2016 and 2017\n",
    "ratings1617 = pd.read_csv('movie_ratings_16_17.csv')"
   ]
  },
  {
   "cell_type": "markdown",
   "metadata": {},
   "source": [
    "After reading the data into dataframes and exploring the data, we know that the Fandango data has 146 rows and 22 columns consisting of ratings information from various sources. \n",
    "\n",
    "The data on movie ratings from 2016 and 2017 has 214 rows and 15 columns with ratings info from similar sources. However, the data is stored in columns with different names.\n",
    "\n",
    "Both sources have a combination of strings, integers and floats, and do not have any null values.\n",
    "\n",
    "Now we'll select the columns that offer information about Fandango's ratings in separate variables so we have just the data we're interested in."
   ]
  },
  {
   "cell_type": "code",
   "execution_count": 4,
   "metadata": {
    "collapsed": true
   },
   "outputs": [],
   "source": [
    "fandango_subset = fandango[['FILM','Fandango_Stars', 'Fandango_Ratingvalue', 'Fandango_votes', 'Fandango_Difference']].copy()\n",
    "ratings_subset = ratings1617[['movie', 'year', 'fandango']].copy()\n"
   ]
  },
  {
   "cell_type": "markdown",
   "metadata": {},
   "source": [
    "The fandango dataset contains every film that has a Rotten Tomatoes rating, a RT User rating, a Metacritic score, a Metacritic User score, and IMDb score, and at least 30 fan reviews on Fandango as of  24 August 2015.\n",
    "\n",
    "The other ratings data set contains movie ratings data for 214 of the most popular movies (with a significant number of votes, but the exact number is unspecified) released in 2016 and 2017, and is accurate as of 22 March 2017. \n",
    "\n",
    "The data come from the periods of time that we need - before and after Hickey's analysis, respectively. However, the sampling is not random and the samples were created based on the authors' purpose. They are also unlikely to be representative of the population of movie reviews on Fandango, as they represent subsets of movies released and reviewed at specific points in time."
   ]
  },
  {
   "cell_type": "markdown",
   "metadata": {},
   "source": [
    "### Changing the goal of this analysis"
   ]
  },
  {
   "cell_type": "markdown",
   "metadata": {},
   "source": [
    "As the data is not representative of what we were planning to analyse - Fandango's movie rating system - we will change the goal of our analysis by placing some limitations on it.\n",
    "\n",
    "We'll focus on determining whether there has been any change in Fandango's rating system for movies with a significant number of votes/reviews by comparing those released in 2015 with those released in 2016 and 2017. This should still be a relatively good proxy for movies released before and after Hickey's analysis.\n",
    "\n",
    "We'll use the minimum of 30 fan ratings in Hickey's dataset as the minimum to be considered a \"significant number\". However, as the 2nd dataset doesn't provide info about how many fan reviews each movie has, we'll select a random sample of 12 movies. If at least 9 of them have 30 or more fan reviews then we'll proceed to use the data as it is."
   ]
  },
  {
   "cell_type": "code",
   "execution_count": 5,
   "metadata": {
    "collapsed": false
   },
   "outputs": [
    {
     "data": {
      "text/html": [
       "<div>\n",
       "<style scoped>\n",
       "    .dataframe tbody tr th:only-of-type {\n",
       "        vertical-align: middle;\n",
       "    }\n",
       "\n",
       "    .dataframe tbody tr th {\n",
       "        vertical-align: top;\n",
       "    }\n",
       "\n",
       "    .dataframe thead th {\n",
       "        text-align: right;\n",
       "    }\n",
       "</style>\n",
       "<table border=\"1\" class=\"dataframe\">\n",
       "  <thead>\n",
       "    <tr style=\"text-align: right;\">\n",
       "      <th></th>\n",
       "      <th>movie</th>\n",
       "      <th>year</th>\n",
       "      <th>fandango</th>\n",
       "    </tr>\n",
       "  </thead>\n",
       "  <tbody>\n",
       "    <tr>\n",
       "      <th>108</th>\n",
       "      <td>Mechanic: Resurrection</td>\n",
       "      <td>2016</td>\n",
       "      <td>4.0</td>\n",
       "    </tr>\n",
       "    <tr>\n",
       "      <th>206</th>\n",
       "      <td>Warcraft</td>\n",
       "      <td>2016</td>\n",
       "      <td>4.0</td>\n",
       "    </tr>\n",
       "    <tr>\n",
       "      <th>106</th>\n",
       "      <td>Max Steel</td>\n",
       "      <td>2016</td>\n",
       "      <td>3.5</td>\n",
       "    </tr>\n",
       "    <tr>\n",
       "      <th>107</th>\n",
       "      <td>Me Before You</td>\n",
       "      <td>2016</td>\n",
       "      <td>4.5</td>\n",
       "    </tr>\n",
       "    <tr>\n",
       "      <th>51</th>\n",
       "      <td>Fantastic Beasts and Where to Find Them</td>\n",
       "      <td>2016</td>\n",
       "      <td>4.5</td>\n",
       "    </tr>\n",
       "    <tr>\n",
       "      <th>33</th>\n",
       "      <td>Cell</td>\n",
       "      <td>2016</td>\n",
       "      <td>3.0</td>\n",
       "    </tr>\n",
       "    <tr>\n",
       "      <th>59</th>\n",
       "      <td>Genius</td>\n",
       "      <td>2016</td>\n",
       "      <td>3.5</td>\n",
       "    </tr>\n",
       "    <tr>\n",
       "      <th>152</th>\n",
       "      <td>Sully</td>\n",
       "      <td>2016</td>\n",
       "      <td>4.5</td>\n",
       "    </tr>\n",
       "    <tr>\n",
       "      <th>4</th>\n",
       "      <td>A Hologram for the King</td>\n",
       "      <td>2016</td>\n",
       "      <td>3.0</td>\n",
       "    </tr>\n",
       "    <tr>\n",
       "      <th>31</th>\n",
       "      <td>Captain America: Civil War</td>\n",
       "      <td>2016</td>\n",
       "      <td>4.5</td>\n",
       "    </tr>\n",
       "    <tr>\n",
       "      <th>118</th>\n",
       "      <td>Mr. Church</td>\n",
       "      <td>2016</td>\n",
       "      <td>4.5</td>\n",
       "    </tr>\n",
       "    <tr>\n",
       "      <th>39</th>\n",
       "      <td>Crouching Tiger, Hidden Dragon: Sword of Destiny</td>\n",
       "      <td>2016</td>\n",
       "      <td>4.0</td>\n",
       "    </tr>\n",
       "  </tbody>\n",
       "</table>\n",
       "</div>"
      ],
      "text/plain": [
       "                                                movie  year  fandango\n",
       "108                            Mechanic: Resurrection  2016       4.0\n",
       "206                                          Warcraft  2016       4.0\n",
       "106                                         Max Steel  2016       3.5\n",
       "107                                     Me Before You  2016       4.5\n",
       "51            Fantastic Beasts and Where to Find Them  2016       4.5\n",
       "33                                               Cell  2016       3.0\n",
       "59                                             Genius  2016       3.5\n",
       "152                                             Sully  2016       4.5\n",
       "4                             A Hologram for the King  2016       3.0\n",
       "31                         Captain America: Civil War  2016       4.5\n",
       "118                                        Mr. Church  2016       4.5\n",
       "39   Crouching Tiger, Hidden Dragon: Sword of Destiny  2016       4.0"
      ]
     },
     "execution_count": 5,
     "metadata": {},
     "output_type": "execute_result"
    }
   ],
   "source": [
    "ratings_subset.sample(12, random_state = 1)"
   ]
  },
  {
   "cell_type": "markdown",
   "metadata": {},
   "source": [
    "As of 2 Feb 2022, the number of fan ratings for each of the movies is as follows.\n",
    "\n",
    "| Movie | Fan ratings | \n",
    "| --- | --- | \n",
    "| Mechanic: Resurrection | 25,672 | \n",
    "| Warcraft | 31,814 |\n",
    "| Max Steel | 6,874|\n",
    "| Me Before You | 30,827 |\n",
    "| Fantastic Beasts and Where to Find Them | 88,321 |\n",
    "| Cell| 180,919 |\n",
    "| Genius | 12 |\n",
    "| Sully | 48,723 |\n",
    "| A Hologram for the King | 10,266 |\n",
    "| Captain America: Civil War | 185,188 |\n",
    "| Mr. Church | 4,714 |\n",
    "| Crouching Tiger, Hidden Dragon: Sword of Destiny | 12,119 |\n",
    "\n",
    "11 out of 12 have more than 30 fan ratings, so we should be able to proceed with the data that we have."
   ]
  },
  {
   "cell_type": "code",
   "execution_count": 6,
   "metadata": {
    "collapsed": false
   },
   "outputs": [
    {
     "data": {
      "text/html": [
       "<div>\n",
       "<style scoped>\n",
       "    .dataframe tbody tr th:only-of-type {\n",
       "        vertical-align: middle;\n",
       "    }\n",
       "\n",
       "    .dataframe tbody tr th {\n",
       "        vertical-align: top;\n",
       "    }\n",
       "\n",
       "    .dataframe thead th {\n",
       "        text-align: right;\n",
       "    }\n",
       "</style>\n",
       "<table border=\"1\" class=\"dataframe\">\n",
       "  <thead>\n",
       "    <tr style=\"text-align: right;\">\n",
       "      <th></th>\n",
       "      <th>FILM</th>\n",
       "      <th>RottenTomatoes</th>\n",
       "      <th>RottenTomatoes_User</th>\n",
       "      <th>Metacritic</th>\n",
       "      <th>Metacritic_User</th>\n",
       "      <th>IMDB</th>\n",
       "      <th>Fandango_Stars</th>\n",
       "      <th>Fandango_Ratingvalue</th>\n",
       "      <th>RT_norm</th>\n",
       "      <th>RT_user_norm</th>\n",
       "      <th>...</th>\n",
       "      <th>IMDB_norm</th>\n",
       "      <th>RT_norm_round</th>\n",
       "      <th>RT_user_norm_round</th>\n",
       "      <th>Metacritic_norm_round</th>\n",
       "      <th>Metacritic_user_norm_round</th>\n",
       "      <th>IMDB_norm_round</th>\n",
       "      <th>Metacritic_user_vote_count</th>\n",
       "      <th>IMDB_user_vote_count</th>\n",
       "      <th>Fandango_votes</th>\n",
       "      <th>Fandango_Difference</th>\n",
       "    </tr>\n",
       "  </thead>\n",
       "  <tbody>\n",
       "  </tbody>\n",
       "</table>\n",
       "<p>0 rows × 22 columns</p>\n",
       "</div>"
      ],
      "text/plain": [
       "Empty DataFrame\n",
       "Columns: [FILM, RottenTomatoes, RottenTomatoes_User, Metacritic, Metacritic_User, IMDB, Fandango_Stars, Fandango_Ratingvalue, RT_norm, RT_user_norm, Metacritic_norm, Metacritic_user_nom, IMDB_norm, RT_norm_round, RT_user_norm_round, Metacritic_norm_round, Metacritic_user_norm_round, IMDB_norm_round, Metacritic_user_vote_count, IMDB_user_vote_count, Fandango_votes, Fandango_Difference]\n",
       "Index: []\n",
       "\n",
       "[0 rows x 22 columns]"
      ]
     },
     "execution_count": 6,
     "metadata": {},
     "output_type": "execute_result"
    }
   ],
   "source": [
    "fandango[fandango['Fandango_votes']<30]"
   ]
  },
  {
   "cell_type": "markdown",
   "metadata": {},
   "source": [
    "We have also confirmed that there are no movies <30 fan ratings in the 2015 dataset."
   ]
  },
  {
   "cell_type": "markdown",
   "metadata": {},
   "source": [
    "### Isolating movies from 2015, 2016 and 2017"
   ]
  },
  {
   "cell_type": "code",
   "execution_count": 7,
   "metadata": {
    "collapsed": false
   },
   "outputs": [
    {
     "data": {
      "text/html": [
       "<div>\n",
       "<style scoped>\n",
       "    .dataframe tbody tr th:only-of-type {\n",
       "        vertical-align: middle;\n",
       "    }\n",
       "\n",
       "    .dataframe tbody tr th {\n",
       "        vertical-align: top;\n",
       "    }\n",
       "\n",
       "    .dataframe thead th {\n",
       "        text-align: right;\n",
       "    }\n",
       "</style>\n",
       "<table border=\"1\" class=\"dataframe\">\n",
       "  <thead>\n",
       "    <tr style=\"text-align: right;\">\n",
       "      <th></th>\n",
       "      <th>FILM</th>\n",
       "      <th>Fandango_Stars</th>\n",
       "      <th>Fandango_Ratingvalue</th>\n",
       "      <th>Fandango_votes</th>\n",
       "      <th>Fandango_Difference</th>\n",
       "      <th>year</th>\n",
       "    </tr>\n",
       "  </thead>\n",
       "  <tbody>\n",
       "    <tr>\n",
       "      <th>0</th>\n",
       "      <td>Avengers: Age of Ultron (2015)</td>\n",
       "      <td>5.0</td>\n",
       "      <td>4.5</td>\n",
       "      <td>14846</td>\n",
       "      <td>0.5</td>\n",
       "      <td>2015</td>\n",
       "    </tr>\n",
       "    <tr>\n",
       "      <th>1</th>\n",
       "      <td>Cinderella (2015)</td>\n",
       "      <td>5.0</td>\n",
       "      <td>4.5</td>\n",
       "      <td>12640</td>\n",
       "      <td>0.5</td>\n",
       "      <td>2015</td>\n",
       "    </tr>\n",
       "  </tbody>\n",
       "</table>\n",
       "</div>"
      ],
      "text/plain": [
       "                             FILM  Fandango_Stars  Fandango_Ratingvalue  \\\n",
       "0  Avengers: Age of Ultron (2015)             5.0                   4.5   \n",
       "1               Cinderella (2015)             5.0                   4.5   \n",
       "\n",
       "   Fandango_votes  Fandango_Difference  year  \n",
       "0           14846                  0.5  2015  \n",
       "1           12640                  0.5  2015  "
      ]
     },
     "execution_count": 7,
     "metadata": {},
     "output_type": "execute_result"
    }
   ],
   "source": [
    "# Extracting years from the FILM column in Hickey's data\n",
    "fandango_subset['year'] = fandango_subset['FILM'].str[-5:-1]\n",
    "fandango_subset.head(2)"
   ]
  },
  {
   "cell_type": "code",
   "execution_count": 8,
   "metadata": {
    "collapsed": false
   },
   "outputs": [
    {
     "name": "stdout",
     "output_type": "stream",
     "text": [
      "2015    129\n",
      "2014     17\n",
      "Name: year, dtype: int64\n"
     ]
    },
    {
     "data": {
      "text/plain": [
       "(129, 6)"
      ]
     },
     "execution_count": 8,
     "metadata": {},
     "output_type": "execute_result"
    }
   ],
   "source": [
    "# Only selecting films released in 2015\n",
    "print(fandango_subset['year'].value_counts())\n",
    "fandango_2015 = fandango_subset[fandango_subset['year']=='2015']\n",
    "fandango_2015.shape"
   ]
  },
  {
   "cell_type": "markdown",
   "metadata": {},
   "source": [
    "We retained 129 out of 146 movies as 17 of them were released in 2014."
   ]
  },
  {
   "cell_type": "code",
   "execution_count": 9,
   "metadata": {
    "collapsed": false
   },
   "outputs": [
    {
     "name": "stdout",
     "output_type": "stream",
     "text": [
      "2016    191\n",
      "2017     23\n",
      "Name: year, dtype: int64\n"
     ]
    }
   ],
   "source": [
    "# Checking years of release for 2nd dataset\n",
    "print(ratings_subset['year'].value_counts())"
   ]
  },
  {
   "cell_type": "markdown",
   "metadata": {},
   "source": [
    "As there are only movies released in 2016 and 2017, we don't need to filter the data further."
   ]
  },
  {
   "cell_type": "markdown",
   "metadata": {},
   "source": [
    "## Looking at the distributions of movie ratings"
   ]
  },
  {
   "cell_type": "markdown",
   "metadata": {},
   "source": [
    "We'll start with a simple with making a high-level comparison between the shapes of the distributions of movie ratings for both samples"
   ]
  },
  {
   "cell_type": "code",
   "execution_count": 82,
   "metadata": {
    "collapsed": false
   },
   "outputs": [
    {
     "data": {
      "image/png": "[encoded data removed]",
      "text/plain": [
       "<matplotlib.figure.Figure at 0x7f9992a048d0>"
      ]
     },
     "metadata": {},
     "output_type": "display_data"
    }
   ],
   "source": [
    "plt.style.use('fivethirtyeight')\n",
    "fandango_2015['Fandango_Stars'].plot.kde(label='2015',legend=True)\n",
    "ratings_subset['fandango'].plot.kde(label='2016-2017',legend=True)\n",
    "plt.xlabel('Ratings',size=14)\n",
    "plt.ylabel('Density',size=14)\n",
    "plt.xlim(0,5)\n",
    "plt.xticks(np.arange(0,5.1,0.5))\n",
    "plt.title('Comparing distributions of movie ratings', y=1.1,size=20)\n",
    "plt.text(-0.7, -0.2, '©DATAQUEST' + ' '*20 + 'Sources: Fandango.com, FiveThirtyEight, Dataquest',\n",
    "        color = '#f0f0f0', backgroundcolor = '#4d4d4d',\n",
    "       size=12)\n",
    "plt.show()"
   ]
  },
  {
   "cell_type": "markdown",
   "metadata": {},
   "source": [
    "Both distributions are skewed left, but the 2015 ratings are slightly highger. The 2015 rating with the highest density if 2.5, while ratings of 4.0 have the highest density for the movies released in 2016 & 2017. This suggests that Fandango may have corrected the rounding logic that it attributed to an error after Hickey's analysis was published, though it is impossible to verify this as the actual ratings have been removed from the HTML code."
   ]
  },
  {
   "cell_type": "markdown",
   "metadata": {},
   "source": [
    "## Analysing frequency distribution tables"
   ]
  },
  {
   "cell_type": "markdown",
   "metadata": {},
   "source": [
    "Now we'll do more granular analysis by looking at the frequency distribution tables of the 2 samples. We'll do this by comparing frequencies in percentages, as both samples contain different numbers of movies."
   ]
  },
  {
   "cell_type": "code",
   "execution_count": 11,
   "metadata": {
    "collapsed": false
   },
   "outputs": [
    {
     "data": {
      "text/plain": [
       "3.0     8.527132\n",
       "3.5    17.829457\n",
       "4.0    28.682171\n",
       "4.5    37.984496\n",
       "5.0     6.976744\n",
       "Name: Fandango_Stars, dtype: float64"
      ]
     },
     "execution_count": 11,
     "metadata": {},
     "output_type": "execute_result"
    }
   ],
   "source": [
    "fandango_2015['Fandango_Stars'].value_counts(normalize = True).sort_index() * 100\n"
   ]
  },
  {
   "cell_type": "code",
   "execution_count": 12,
   "metadata": {
    "collapsed": false
   },
   "outputs": [
    {
     "data": {
      "text/plain": [
       "2.5     2.803738\n",
       "3.0     8.411215\n",
       "3.5    23.364486\n",
       "4.0    38.317757\n",
       "4.5    26.635514\n",
       "5.0     0.467290\n",
       "Name: fandango, dtype: float64"
      ]
     },
     "execution_count": 12,
     "metadata": {},
     "output_type": "execute_result"
    }
   ],
   "source": [
    "ratings_subset['fandango'].value_counts(normalize = True).sort_index() * 100\n"
   ]
  },
  {
   "cell_type": "markdown",
   "metadata": {},
   "source": [
    "From the frequency distribution tables, we can see that most movies are rated between 4-4.5 stars in both samples (about 66.6% in 2015 compared to about 64.9% in 2016-2017). However, the distributions also differ in the following ways:\n",
    "\n",
    "- Ratings in 2016-2017 have a wider distribution, with 2.8% of ratings below 3 stars compared to none below 3 stars in 2015\n",
    "- More movies were given lower ratings in 2016-2017 - about 8% more movies are rated 3 stars and below\n",
    "- A much smaller percentage of movies in 2016-2017 are rated 5 stars, about 0.5% compared to about 7% in 2015\n",
    "- Ratings of 4.5 were also more popular in 2015 — there were approximately 13% more movies rated with a 4.5 in 2015 compared to 2016.\n",
    "\n",
    "About 6% more movies were given ratings of 3.5-4 stars in 2016-2017. As these are still high ratings, it suggests that despite the change in distributions, overall movie ratings are still high.\n",
    "\n",
    "These observations are similar to what we observe in the kernel density plots."
   ]
  },
  {
   "cell_type": "markdown",
   "metadata": {
    "collapsed": true
   },
   "source": [
    "## Looking at summary statistics"
   ]
  },
  {
   "cell_type": "markdown",
   "metadata": {},
   "source": [
    "We confirmed with the two tables before that there is indeed a clear difference between the two distributions. However, the direction of the difference is not as clear as it was on the kernel density plots. As such, we'll take each distribution of movie ratings and compute its mean, median, and mode, and then compare these statistics to determine what they tell about the direction of the difference."
   ]
  },
  {
   "cell_type": "code",
   "execution_count": 52,
   "metadata": {
    "collapsed": false
   },
   "outputs": [],
   "source": [
    "# computing the mean, median and mode for 2015 data\n",
    "mean_2015 = fandango_2015['Fandango_Stars'].mean()\n",
    "median_2015 = fandango_2015['Fandango_Stars'].median()\n",
    "mode_2015 = fandango_2015['Fandango_Stars'].mode()[0]\n"
   ]
  },
  {
   "cell_type": "code",
   "execution_count": 53,
   "metadata": {
    "collapsed": false
   },
   "outputs": [],
   "source": [
    "# computing the mean, median and mode for 2016-2017 data\n",
    "mean_aft = ratings_subset['fandango'].mean()\n",
    "median_aft = ratings_subset['fandango'].median()\n",
    "mode_aft = ratings_subset['fandango'].mode()[0]\n"
   ]
  },
  {
   "cell_type": "code",
   "execution_count": 54,
   "metadata": {
    "collapsed": false
   },
   "outputs": [],
   "source": [
    "# Storing both sets of summary statistics in dataframes\n",
    "stats = ['mean','median','mode']\n",
    "stats_2015 = [mean_2015, median_2015, mode_2015]\n",
    "stats_aft = [mean_aft, median_aft, mode_aft]\n",
    "\n",
    "summary = pd.DataFrame(\n",
    "    {'2016-17': stats_aft\n",
    "     ,'2015': stats_2015,\n",
    "    })\n",
    "summary.index = ['mean', 'median', 'mode']"
   ]
  },
  {
   "cell_type": "code",
   "execution_count": 55,
   "metadata": {
    "collapsed": false
   },
   "outputs": [
    {
     "data": {
      "text/html": [
       "<div>\n",
       "<style scoped>\n",
       "    .dataframe tbody tr th:only-of-type {\n",
       "        vertical-align: middle;\n",
       "    }\n",
       "\n",
       "    .dataframe tbody tr th {\n",
       "        vertical-align: top;\n",
       "    }\n",
       "\n",
       "    .dataframe thead th {\n",
       "        text-align: right;\n",
       "    }\n",
       "</style>\n",
       "<table border=\"1\" class=\"dataframe\">\n",
       "  <thead>\n",
       "    <tr style=\"text-align: right;\">\n",
       "      <th></th>\n",
       "      <th>2015</th>\n",
       "      <th>2016-17</th>\n",
       "    </tr>\n",
       "  </thead>\n",
       "  <tbody>\n",
       "    <tr>\n",
       "      <th>mean</th>\n",
       "      <td>4.085271</td>\n",
       "      <td>3.89486</td>\n",
       "    </tr>\n",
       "    <tr>\n",
       "      <th>median</th>\n",
       "      <td>4.000000</td>\n",
       "      <td>4.00000</td>\n",
       "    </tr>\n",
       "    <tr>\n",
       "      <th>mode</th>\n",
       "      <td>4.500000</td>\n",
       "      <td>4.00000</td>\n",
       "    </tr>\n",
       "  </tbody>\n",
       "</table>\n",
       "</div>"
      ],
      "text/plain": [
       "            2015  2016-17\n",
       "mean    4.085271  3.89486\n",
       "median  4.000000  4.00000\n",
       "mode    4.500000  4.00000"
      ]
     },
     "execution_count": 55,
     "metadata": {},
     "output_type": "execute_result"
    }
   ],
   "source": [
    "summary"
   ]
  },
  {
   "cell_type": "code",
   "execution_count": 86,
   "metadata": {
    "collapsed": false
   },
   "outputs": [
    {
     "data": {
      "image/png": "[encoded data removed]",
      "text/plain": [
       "<matplotlib.figure.Figure at 0x7f9992753588>"
      ]
     },
     "metadata": {},
     "output_type": "display_data"
    }
   ],
   "source": [
    "plt.style.use('fivethirtyeight')\n",
    "summary.plot.bar(legend=True,figsize=(8,5))\n",
    "plt.ylabel('Stars',size=14)\n",
    "plt.xticks(rotation=0)\n",
    "plt.ylim(0,5)\n",
    "plt.yticks(np.arange(0,5.1,0.5))\n",
    "plt.legend(loc='upper center')\n",
    "plt.title('Comparing summary statistics: 2015 vs 2016-17',y=1.1,size=20)\n",
    "plt.text(-0.8, -0.6, '©DATAQUEST' + ' '*54 + 'Fandango.com, FiveThirtyEight, Dataquest',\n",
    "        color = '#f0f0f0', backgroundcolor = '#4d4d4d',\n",
    "       size=12)\n",
    "plt.show()"
   ]
  },
  {
   "cell_type": "markdown",
   "metadata": {},
   "source": [
    "Looking at the values in the summary dataframe and at the grouped bar plot, ratings for popular movies in 2015 were slightly higher. Mean ratings were about 0.2 stars higher, while the most common rating was 4.5 stars compared to 4 stars in 2016-2017. However, the median rating was the same in both samples, supporting the observation that ratings in 2015 are only slightly higher."
   ]
  },
  {
   "cell_type": "markdown",
   "metadata": {},
   "source": [
    "## Conclusion"
   ]
  },
  {
   "cell_type": "markdown",
   "metadata": {},
   "source": [
    "Based on our analysis, it is clear that popular movies were rated slightly higher in 2015 compared to 2016 and part of 2017. It is likely that this was due to Fandango fixing the biased rating system after Hickey's analysis."
   ]
  },
  {
   "cell_type": "code",
   "execution_count": null,
   "metadata": {
    "collapsed": true
   },
   "outputs": [],
   "source": []
  }
 ],
 "metadata": {
  "kernelspec": {
   "display_name": "Python 3",
   "language": "python",
   "name": "python3"
  },
  "language_info": {
   "codemirror_mode": {
    "name": "ipython",
    "version": 3
   },
   "file_extension": ".py",
   "mimetype": "text/x-python",
   "name": "python",
   "nbconvert_exporter": "python",
   "pygments_lexer": "ipython3",
   "version": "3.4.3"
  }
 },
 "nbformat": 4,
 "nbformat_minor": 2
}
