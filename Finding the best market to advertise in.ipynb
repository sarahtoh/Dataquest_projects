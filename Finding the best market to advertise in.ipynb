{
 "cells": [
  {
   "cell_type": "markdown",
   "metadata": {},
   "source": [
    "# Finding the 2 best markets to advertise an E-learning product in"
   ]
  },
  {
   "cell_type": "markdown",
   "metadata": {},
   "source": [
    "We're working for an an e-learning company that offers courses on programming. Most of our courses are on web and mobile development, but we also cover many other domains, like data science, game development, etc. We want to promote our product and we'd like to invest some money in advertisement. Our goal in this project is to find out the two best markets to advertise our product in."
   ]
  },
  {
   "cell_type": "markdown",
   "metadata": {},
   "source": [
    "It's costly to organise surveys to do market research, so we'll be using data from freeCodeCamp's 2017 New Coder Survey, as it is a free resource that is relevant for our purpose.\n",
    "\n",
    "freeCodeCamp is a free e-learning platform that offers courses on web development. Because they run a popular Medium publication (over 400,000 followers), their survey attracted new coders with varying interests (not only web development), which is ideal for the purpose of our analysis. The data can be found [here](https://github.com/freeCodeCamp/2017-new-coder-survey)."
   ]
  },
  {
   "cell_type": "markdown",
   "metadata": {},
   "source": [
    "## Reading the data into a dataframe"
   ]
  },
  {
   "cell_type": "code",
   "execution_count": 2,
   "metadata": {
    "collapsed": true
   },
   "outputs": [],
   "source": [
    "import pandas as pd\n",
    "import seaborn as sns\n",
    "import matplotlib.pyplot as plt\n",
    "%matplotlib inline"
   ]
  },
  {
   "cell_type": "code",
   "execution_count": 3,
   "metadata": {
    "collapsed": false
   },
   "outputs": [],
   "source": [
    "survey_data = pd.read_csv('2017-fCC-New-Coders-Survey-Data.csv', low_memory=False)\n"
   ]
  },
  {
   "cell_type": "code",
   "execution_count": 4,
   "metadata": {
    "collapsed": false
   },
   "outputs": [
    {
     "data": {
      "text/html": [
       "<div>\n",
       "<style scoped>\n",
       "    .dataframe tbody tr th:only-of-type {\n",
       "        vertical-align: middle;\n",
       "    }\n",
       "\n",
       "    .dataframe tbody tr th {\n",
       "        vertical-align: top;\n",
       "    }\n",
       "\n",
       "    .dataframe thead th {\n",
       "        text-align: right;\n",
       "    }\n",
       "</style>\n",
       "<table border=\"1\" class=\"dataframe\">\n",
       "  <thead>\n",
       "    <tr style=\"text-align: right;\">\n",
       "      <th></th>\n",
       "      <th>Age</th>\n",
       "      <th>AttendedBootcamp</th>\n",
       "      <th>BootcampFinish</th>\n",
       "      <th>BootcampLoanYesNo</th>\n",
       "      <th>BootcampName</th>\n",
       "      <th>BootcampRecommend</th>\n",
       "      <th>ChildrenNumber</th>\n",
       "      <th>CityPopulation</th>\n",
       "      <th>CodeEventConferences</th>\n",
       "      <th>CodeEventDjangoGirls</th>\n",
       "      <th>...</th>\n",
       "      <th>YouTubeFCC</th>\n",
       "      <th>YouTubeFunFunFunction</th>\n",
       "      <th>YouTubeGoogleDev</th>\n",
       "      <th>YouTubeLearnCode</th>\n",
       "      <th>YouTubeLevelUpTuts</th>\n",
       "      <th>YouTubeMIT</th>\n",
       "      <th>YouTubeMozillaHacks</th>\n",
       "      <th>YouTubeOther</th>\n",
       "      <th>YouTubeSimplilearn</th>\n",
       "      <th>YouTubeTheNewBoston</th>\n",
       "    </tr>\n",
       "  </thead>\n",
       "  <tbody>\n",
       "    <tr>\n",
       "      <th>0</th>\n",
       "      <td>27.0</td>\n",
       "      <td>0.0</td>\n",
       "      <td>NaN</td>\n",
       "      <td>NaN</td>\n",
       "      <td>NaN</td>\n",
       "      <td>NaN</td>\n",
       "      <td>NaN</td>\n",
       "      <td>more than 1 million</td>\n",
       "      <td>NaN</td>\n",
       "      <td>NaN</td>\n",
       "      <td>...</td>\n",
       "      <td>NaN</td>\n",
       "      <td>NaN</td>\n",
       "      <td>NaN</td>\n",
       "      <td>NaN</td>\n",
       "      <td>NaN</td>\n",
       "      <td>NaN</td>\n",
       "      <td>NaN</td>\n",
       "      <td>NaN</td>\n",
       "      <td>NaN</td>\n",
       "      <td>NaN</td>\n",
       "    </tr>\n",
       "    <tr>\n",
       "      <th>1</th>\n",
       "      <td>34.0</td>\n",
       "      <td>0.0</td>\n",
       "      <td>NaN</td>\n",
       "      <td>NaN</td>\n",
       "      <td>NaN</td>\n",
       "      <td>NaN</td>\n",
       "      <td>NaN</td>\n",
       "      <td>less than 100,000</td>\n",
       "      <td>NaN</td>\n",
       "      <td>NaN</td>\n",
       "      <td>...</td>\n",
       "      <td>1.0</td>\n",
       "      <td>NaN</td>\n",
       "      <td>NaN</td>\n",
       "      <td>NaN</td>\n",
       "      <td>NaN</td>\n",
       "      <td>NaN</td>\n",
       "      <td>NaN</td>\n",
       "      <td>NaN</td>\n",
       "      <td>NaN</td>\n",
       "      <td>NaN</td>\n",
       "    </tr>\n",
       "    <tr>\n",
       "      <th>2</th>\n",
       "      <td>21.0</td>\n",
       "      <td>0.0</td>\n",
       "      <td>NaN</td>\n",
       "      <td>NaN</td>\n",
       "      <td>NaN</td>\n",
       "      <td>NaN</td>\n",
       "      <td>NaN</td>\n",
       "      <td>more than 1 million</td>\n",
       "      <td>NaN</td>\n",
       "      <td>NaN</td>\n",
       "      <td>...</td>\n",
       "      <td>NaN</td>\n",
       "      <td>NaN</td>\n",
       "      <td>NaN</td>\n",
       "      <td>1.0</td>\n",
       "      <td>1.0</td>\n",
       "      <td>NaN</td>\n",
       "      <td>NaN</td>\n",
       "      <td>NaN</td>\n",
       "      <td>NaN</td>\n",
       "      <td>NaN</td>\n",
       "    </tr>\n",
       "    <tr>\n",
       "      <th>3</th>\n",
       "      <td>26.0</td>\n",
       "      <td>0.0</td>\n",
       "      <td>NaN</td>\n",
       "      <td>NaN</td>\n",
       "      <td>NaN</td>\n",
       "      <td>NaN</td>\n",
       "      <td>NaN</td>\n",
       "      <td>between 100,000 and 1 million</td>\n",
       "      <td>NaN</td>\n",
       "      <td>NaN</td>\n",
       "      <td>...</td>\n",
       "      <td>1.0</td>\n",
       "      <td>1.0</td>\n",
       "      <td>NaN</td>\n",
       "      <td>NaN</td>\n",
       "      <td>1.0</td>\n",
       "      <td>NaN</td>\n",
       "      <td>NaN</td>\n",
       "      <td>NaN</td>\n",
       "      <td>NaN</td>\n",
       "      <td>NaN</td>\n",
       "    </tr>\n",
       "    <tr>\n",
       "      <th>4</th>\n",
       "      <td>20.0</td>\n",
       "      <td>0.0</td>\n",
       "      <td>NaN</td>\n",
       "      <td>NaN</td>\n",
       "      <td>NaN</td>\n",
       "      <td>NaN</td>\n",
       "      <td>NaN</td>\n",
       "      <td>between 100,000 and 1 million</td>\n",
       "      <td>NaN</td>\n",
       "      <td>NaN</td>\n",
       "      <td>...</td>\n",
       "      <td>NaN</td>\n",
       "      <td>NaN</td>\n",
       "      <td>NaN</td>\n",
       "      <td>NaN</td>\n",
       "      <td>NaN</td>\n",
       "      <td>NaN</td>\n",
       "      <td>NaN</td>\n",
       "      <td>NaN</td>\n",
       "      <td>NaN</td>\n",
       "      <td>NaN</td>\n",
       "    </tr>\n",
       "  </tbody>\n",
       "</table>\n",
       "<p>5 rows × 136 columns</p>\n",
       "</div>"
      ],
      "text/plain": [
       "    Age  AttendedBootcamp  BootcampFinish  BootcampLoanYesNo BootcampName  \\\n",
       "0  27.0               0.0             NaN                NaN          NaN   \n",
       "1  34.0               0.0             NaN                NaN          NaN   \n",
       "2  21.0               0.0             NaN                NaN          NaN   \n",
       "3  26.0               0.0             NaN                NaN          NaN   \n",
       "4  20.0               0.0             NaN                NaN          NaN   \n",
       "\n",
       "   BootcampRecommend  ChildrenNumber                 CityPopulation  \\\n",
       "0                NaN             NaN            more than 1 million   \n",
       "1                NaN             NaN              less than 100,000   \n",
       "2                NaN             NaN            more than 1 million   \n",
       "3                NaN             NaN  between 100,000 and 1 million   \n",
       "4                NaN             NaN  between 100,000 and 1 million   \n",
       "\n",
       "   CodeEventConferences  CodeEventDjangoGirls         ...           \\\n",
       "0                   NaN                   NaN         ...            \n",
       "1                   NaN                   NaN         ...            \n",
       "2                   NaN                   NaN         ...            \n",
       "3                   NaN                   NaN         ...            \n",
       "4                   NaN                   NaN         ...            \n",
       "\n",
       "   YouTubeFCC  YouTubeFunFunFunction  YouTubeGoogleDev  YouTubeLearnCode  \\\n",
       "0         NaN                    NaN               NaN               NaN   \n",
       "1         1.0                    NaN               NaN               NaN   \n",
       "2         NaN                    NaN               NaN               1.0   \n",
       "3         1.0                    1.0               NaN               NaN   \n",
       "4         NaN                    NaN               NaN               NaN   \n",
       "\n",
       "   YouTubeLevelUpTuts  YouTubeMIT  YouTubeMozillaHacks YouTubeOther  \\\n",
       "0                 NaN         NaN                  NaN          NaN   \n",
       "1                 NaN         NaN                  NaN          NaN   \n",
       "2                 1.0         NaN                  NaN          NaN   \n",
       "3                 1.0         NaN                  NaN          NaN   \n",
       "4                 NaN         NaN                  NaN          NaN   \n",
       "\n",
       "   YouTubeSimplilearn  YouTubeTheNewBoston  \n",
       "0                 NaN                  NaN  \n",
       "1                 NaN                  NaN  \n",
       "2                 NaN                  NaN  \n",
       "3                 NaN                  NaN  \n",
       "4                 NaN                  NaN  \n",
       "\n",
       "[5 rows x 136 columns]"
      ]
     },
     "execution_count": 4,
     "metadata": {},
     "output_type": "execute_result"
    }
   ],
   "source": [
    "survey_data.head(5)"
   ]
  },
  {
   "cell_type": "code",
   "execution_count": 5,
   "metadata": {
    "collapsed": false
   },
   "outputs": [
    {
     "name": "stdout",
     "output_type": "stream",
     "text": [
      "<class 'pandas.core.frame.DataFrame'>\n",
      "RangeIndex: 18175 entries, 0 to 18174\n",
      "Columns: 136 entries, Age to YouTubeTheNewBoston\n",
      "dtypes: float64(105), object(31)\n",
      "memory usage: 18.9+ MB\n"
     ]
    }
   ],
   "source": [
    "survey_data.info()"
   ]
  },
  {
   "cell_type": "markdown",
   "metadata": {},
   "source": [
    "For the purpose of our analysis, we want to answer questions about new coders that are interested in the subjects we teach. We'd like to know:\n",
    "\n",
    "- Where are these new coders located.\n",
    "- What are the locations with the greatest number of new coders.\n",
    "- How much money new coders are willing to spend on learning.\n",
    "\n",
    "Before starting to analyze the sample data we have, we need to clarify whether it's representative for our population of interest and it has the right categories of people for our purpose."
   ]
  },
  {
   "cell_type": "markdown",
   "metadata": {},
   "source": [
    "## Is the data representative?"
   ]
  },
  {
   "cell_type": "markdown",
   "metadata": {},
   "source": [
    "We'll start by analysing the role(s) that participants are interested in working in, as they're likely to want to learn about that area."
   ]
  },
  {
   "cell_type": "code",
   "execution_count": 6,
   "metadata": {
    "collapsed": false
   },
   "outputs": [
    {
     "data": {
      "text/plain": [
       "Full-Stack Web Developer                                                                                                                                                                                                                                                    11.770595\n",
       "  Front-End Web Developer                                                                                                                                                                                                                                                    6.435927\n",
       "  Data Scientist                                                                                                                                                                                                                                                             2.173913\n",
       "Back-End Web Developer                                                                                                                                                                                                                                                       2.030892\n",
       "  Mobile Developer                                                                                                                                                                                                                                                           1.673341\n",
       "Game Developer                                                                                                                                                                                                                                                               1.630435\n",
       "Information Security                                                                                                                                                                                                                                                         1.315789\n",
       "Full-Stack Web Developer,   Front-End Web Developer                                                                                                                                                                                                                          0.915332\n",
       "  Front-End Web Developer, Full-Stack Web Developer                                                                                                                                                                                                                          0.800915\n",
       "  Product Manager                                                                                                                                                                                                                                                            0.786613\n",
       "Data Engineer                                                                                                                                                                                                                                                                0.758009\n",
       "  User Experience Designer                                                                                                                                                                                                                                                   0.743707\n",
       "  User Experience Designer,   Front-End Web Developer                                                                                                                                                                                                                        0.614989\n",
       "  Front-End Web Developer, Back-End Web Developer, Full-Stack Web Developer                                                                                                                                                                                                  0.557780\n",
       "Back-End Web Developer, Full-Stack Web Developer,   Front-End Web Developer                                                                                                                                                                                                  0.514874\n",
       "  DevOps / SysAdmin                                                                                                                                                                                                                                                          0.514874\n",
       "Back-End Web Developer,   Front-End Web Developer, Full-Stack Web Developer                                                                                                                                                                                                  0.514874\n",
       "Full-Stack Web Developer,   Front-End Web Developer, Back-End Web Developer                                                                                                                                                                                                  0.443364\n",
       "  Front-End Web Developer, Full-Stack Web Developer, Back-End Web Developer                                                                                                                                                                                                  0.429062\n",
       "Full-Stack Web Developer,   Mobile Developer                                                                                                                                                                                                                                 0.414760\n",
       "  Front-End Web Developer,   User Experience Designer                                                                                                                                                                                                                        0.414760\n",
       "Back-End Web Developer, Full-Stack Web Developer                                                                                                                                                                                                                             0.386156\n",
       "Full-Stack Web Developer, Back-End Web Developer                                                                                                                                                                                                                             0.371854\n",
       "Back-End Web Developer,   Front-End Web Developer                                                                                                                                                                                                                            0.286041\n",
       "Data Engineer,   Data Scientist                                                                                                                                                                                                                                              0.271739\n",
       "Full-Stack Web Developer, Back-End Web Developer,   Front-End Web Developer                                                                                                                                                                                                  0.271739\n",
       "  Front-End Web Developer,   Mobile Developer                                                                                                                                                                                                                                0.257437\n",
       "Full-Stack Web Developer,   Data Scientist                                                                                                                                                                                                                                   0.243135\n",
       "  Mobile Developer, Game Developer                                                                                                                                                                                                                                           0.228833\n",
       "  Data Scientist, Data Engineer                                                                                                                                                                                                                                              0.228833\n",
       "                                                                                                                                                                                                                                                                              ...    \n",
       "Back-End Web Developer,   Data Scientist, Full-Stack Web Developer,   User Experience Designer,   DevOps / SysAdmin,   Front-End Web Developer,   Mobile Developer, Data Engineer                                                                                            0.014302\n",
       "Game Developer,   Front-End Web Developer, Back-End Web Developer,   Mobile Developer, Full-Stack Web Developer                                                                                                                                                              0.014302\n",
       "Information Security,   DevOps / SysAdmin, Game Developer, Data Engineer, Full-Stack Web Developer,   Front-End Web Developer, Back-End Web Developer                                                                                                                        0.014302\n",
       "Information Security, Data Engineer, Full-Stack Web Developer,   Product Manager                                                                                                                                                                                             0.014302\n",
       "  Quality Assurance Engineer,   Mobile Developer,   Front-End Web Developer, Information Security, Full-Stack Web Developer, Data Engineer,   User Experience Designer,   Product Manager,   Data Scientist, Game Developer,   DevOps / SysAdmin, Back-End Web Developer     0.014302\n",
       "Game Developer,   Front-End Web Developer, Back-End Web Developer, Full-Stack Web Developer,   Mobile Developer, Information Security,   Data Scientist                                                                                                                      0.014302\n",
       "Full-Stack Web Developer, Back-End Web Developer,   Front-End Web Developer,   Mobile Developer, Information Security, Data Engineer,   Quality Assurance Engineer                                                                                                           0.014302\n",
       "Full-Stack Web Developer, Back-End Web Developer,   Front-End Web Developer, Information Security, Data Engineer,   Data Scientist                                                                                                                                           0.014302\n",
       "  Quality Assurance Engineer, Information Security, Game Developer, Full-Stack Web Developer                                                                                                                                                                                 0.014302\n",
       "Full-Stack Web Developer, Information Security,   Mobile Developer                                                                                                                                                                                                           0.014302\n",
       "Back-End Web Developer,   Front-End Web Developer, Information Security, Game Developer,   User Experience Designer, Full-Stack Web Developer,   Mobile Developer                                                                                                            0.014302\n",
       "  Front-End Web Developer,   User Experience Designer, Game Developer, Full-Stack Web Developer                                                                                                                                                                              0.014302\n",
       "Back-End Web Developer, Full-Stack Web Developer,   Product Manager,   Data Scientist                                                                                                                                                                                        0.014302\n",
       "Full-Stack Web Developer, Information Security,   Mobile Developer,   Front-End Web Developer, Back-End Web Developer                                                                                                                                                        0.014302\n",
       "Full-Stack Web Developer, Back-End Web Developer, Game Developer, Information Security,   Front-End Web Developer,   User Experience Designer,   Mobile Developer                                                                                                            0.014302\n",
       "Data Engineer, Back-End Web Developer,   Front-End Web Developer, Full-Stack Web Developer,   DevOps / SysAdmin                                                                                                                                                              0.014302\n",
       "  Data Scientist,   Mobile Developer, Back-End Web Developer,   DevOps / SysAdmin, Data Engineer, Information Security, Full-Stack Web Developer                                                                                                                             0.014302\n",
       "Full-Stack Web Developer,   Quality Assurance Engineer, Data Engineer, Back-End Web Developer,   Front-End Web Developer,   Mobile Developer                                                                                                                                 0.014302\n",
       "Full-Stack Web Developer,   Product Manager,   User Experience Designer,   Mobile Developer, Information Security                                                                                                                                                            0.014302\n",
       "Game Developer,   Front-End Web Developer, Information Security, Full-Stack Web Developer, Data Engineer                                                                                                                                                                     0.014302\n",
       "  Product Manager, Game Developer, Information Security,   Front-End Web Developer,   Data Scientist                                                                                                                                                                         0.014302\n",
       "  Front-End Web Developer, Data Engineer,   User Experience Designer, Game Developer,   Data Scientist                                                                                                                                                                       0.014302\n",
       "  Product Manager,   Mobile Developer,   User Experience Designer, Full-Stack Web Developer, Back-End Web Developer,   Front-End Web Developer                                                                                                                               0.014302\n",
       "Information Security,   Mobile Developer, Back-End Web Developer, Data Engineer,   Product Manager,   User Experience Designer,   Front-End Web Developer,   Data Scientist                                                                                                  0.014302\n",
       "Full-Stack Web Developer,   Mobile Developer, Game Developer, Back-End Web Developer,   Front-End Web Developer, System Administrator/Network                                                                                                                                0.014302\n",
       "  Quality Assurance Engineer, Back-End Web Developer                                                                                                                                                                                                                         0.014302\n",
       "  Data Scientist,   DevOps / SysAdmin, Back-End Web Developer, Data Engineer                                                                                                                                                                                                 0.014302\n",
       "  Front-End Web Developer,   Mobile Developer,   Product Manager                                                                                                                                                                                                             0.014302\n",
       "Data Engineer, Full-Stack Web Developer,   Mobile Developer,   User Experience Designer, Game Developer, Back-End Web Developer                                                                                                                                              0.014302\n",
       "  Product Manager,   Mobile Developer,   User Experience Designer,   Front-End Web Developer                                                                                                                                                                                 0.014302\n",
       "Name: JobRoleInterest, Length: 3213, dtype: float64"
      ]
     },
     "execution_count": 6,
     "metadata": {},
     "output_type": "execute_result"
    }
   ],
   "source": [
    "# Generating a frequency distribution table\n",
    "survey_data['JobRoleInterest'].value_counts(normalize=True)*100\n"
   ]
  },
  {
   "cell_type": "markdown",
   "metadata": {},
   "source": [
    "There are many possible answers to this question, but from the frequency table, we can see that:\n",
    "\n",
    "- The most popular job roles tend to be in web development (full-stack, front-end, back-end). There also seem a be a number of people interested in mobile development\n",
    "- There appear to be many respondents who are interested in multiple job roles\n",
    "\n",
    "However, it's hard to tell from the frequency table above how many job roles people tend to be interested in, and how many people are interested in web and mobile development. To get a better understanding of this, we'll analyse how many roles people tend to be interested in, and how many people are interested in web / mobile development.\n",
    "\n",
    "We'll drop rows where respondents didn't indicate what job role they're interested in, as we won't know what their interests are."
   ]
  },
  {
   "cell_type": "code",
   "execution_count": 7,
   "metadata": {
    "collapsed": false
   },
   "outputs": [
    {
     "data": {
      "text/plain": [
       "1     31.650458\n",
       "3     15.889588\n",
       "4     15.217391\n",
       "5     12.042334\n",
       "2     10.883867\n",
       "6      6.721968\n",
       "7      3.861556\n",
       "8      1.759153\n",
       "9      0.986842\n",
       "10     0.471968\n",
       "12     0.300343\n",
       "11     0.185927\n",
       "13     0.028604\n",
       "Name: rolecounts, dtype: float64"
      ]
     },
     "execution_count": 7,
     "metadata": {},
     "output_type": "execute_result"
    }
   ],
   "source": [
    "# Drop rows with values in JobRoleInterest column\n",
    "survey_data.dropna(subset=['JobRoleInterest'], inplace=True)\n",
    "# Count roles in JobRoleInterest column and generate a frequency distribution table\n",
    "survey_data['rolecounts'] = survey_data['JobRoleInterest'].str.count(',')+1\n",
    "survey_data['rolecounts'].value_counts(normalize=True)*100\n"
   ]
  },
  {
   "cell_type": "code",
   "execution_count": 8,
   "metadata": {
    "collapsed": false
   },
   "outputs": [
    {
     "data": {
      "image/png": "[encoded data removed]",
      "text/plain": [
       "<matplotlib.figure.Figure at 0x7f5785636710>"
      ]
     },
     "metadata": {},
     "output_type": "display_data"
    }
   ],
   "source": [
    "# Visualising the frequencies\n",
    "plt.hist(survey_data['rolecounts'])\n",
    "plt.ylabel('number of respondents')\n",
    "plt.xlabel('number of job roles')\n",
    "plt.show()"
   ]
  },
  {
   "cell_type": "markdown",
   "metadata": {
    "collapsed": true
   },
   "source": [
    "From the table and graph above, we can see that about 3000 (about a third) respondents are only interested in one job role, and most respondents are interested in 5 roles or less.\n",
    "\n",
    "The fact that people are interested in more than one subject doesn't affect how representative the sample is, as our courses also cover a range of areas."
   ]
  },
  {
   "cell_type": "markdown",
   "metadata": {},
   "source": [
    "### How many people are interested in web and mobile development?"
   ]
  },
  {
   "cell_type": "markdown",
   "metadata": {},
   "source": [
    "Now we'll do some analysis to see how many respondents indicated web or mobile development as one of the job roles that they are intersted in."
   ]
  },
  {
   "cell_type": "code",
   "execution_count": 9,
   "metadata": {
    "collapsed": false
   },
   "outputs": [
    {
     "name": "stdout",
     "output_type": "stream",
     "text": [
      "The % of respondents interested in web development is\n",
      "82.61\n"
     ]
    }
   ],
   "source": [
    "# Checking how many people are interested in web development\n",
    "survey_data['webdev_count'] = survey_data['JobRoleInterest'].str.count('Web Developer')\n",
    "webdev = survey_data[survey_data['webdev_count'] > 0]\n",
    "webdev_int = webdev.shape[0] / survey_data.shape[0]\n",
    "print('The % of respondents interested in web development is')\n",
    "print(round(webdev_int*100,2))\n"
   ]
  },
  {
   "cell_type": "code",
   "execution_count": 10,
   "metadata": {
    "collapsed": false
   },
   "outputs": [
    {
     "name": "stdout",
     "output_type": "stream",
     "text": [
      "The % of respondents interested in mobile development is\n",
      "32.95\n"
     ]
    }
   ],
   "source": [
    "# Checking how many people are interested in mobile development\n",
    "survey_data['mobdev_count'] = survey_data['JobRoleInterest'].str.count('Mobile Developer')\n",
    "mobdev = survey_data[survey_data['mobdev_count'] > 0]\n",
    "mobdev_int = mobdev.shape[0] / survey_data.shape[0]\n",
    "print('The % of respondents interested in mobile development is')\n",
    "print(round(mobdev_int*100,2))\n"
   ]
  },
  {
   "cell_type": "code",
   "execution_count": 11,
   "metadata": {
    "collapsed": false
   },
   "outputs": [
    {
     "name": "stdout",
     "output_type": "stream",
     "text": [
      "The % of respondents interested in both web and mobile development is\n",
      "86.24\n"
     ]
    }
   ],
   "source": [
    "# Checking how many people are interested in web or mobile development\n",
    "survey_data['webmob_count'] = survey_data['JobRoleInterest'].str.count('Mobile Developer|Web Developer')\n",
    "webmob = survey_data[survey_data['webmob_count'] > 0]\n",
    "webmob_int = webmob.shape[0] / survey_data.shape[0]\n",
    "print('The % of respondents interested in both web and mobile development is')\n",
    "print(round(webmob_int*100,2))"
   ]
  },
  {
   "cell_type": "markdown",
   "metadata": {},
   "source": [
    "As about 86% respondents are interested in either web or mobile development, we can use this data for our analysis."
   ]
  },
  {
   "cell_type": "markdown",
   "metadata": {},
   "source": [
    "## Understanding where respondents live"
   ]
  },
  {
   "cell_type": "markdown",
   "metadata": {},
   "source": [
    "We'll start with finding out where these new coders are located, and what are the densities (how many coders there are) for each country, as the data set provides locations based on countries.\n",
    "\n",
    "Because the data set provides information at a country level, we can think of each country as an individual market. This means we can frame our goal as finding the two best countries to advertise in based on the number of potential customers."
   ]
  },
  {
   "cell_type": "code",
   "execution_count": 111,
   "metadata": {
    "collapsed": false
   },
   "outputs": [
    {
     "name": "stdout",
     "output_type": "stream",
     "text": [
      "United States of America         3125\n",
      "India                             528\n",
      "United Kingdom                    315\n",
      "Canada                            260\n",
      "Poland                            131\n",
      "Brazil                            129\n",
      "Germany                           125\n",
      "Australia                         112\n",
      "Russia                            102\n",
      "Ukraine                            89\n",
      "Nigeria                            84\n",
      "Spain                              77\n",
      "France                             75\n",
      "Romania                            71\n",
      "Netherlands (Holland, Europe)      65\n",
      "Italy                              62\n",
      "Philippines                        52\n",
      "Serbia                             52\n",
      "Greece                             46\n",
      "Ireland                            43\n",
      "South Africa                       39\n",
      "Mexico                             37\n",
      "Turkey                             36\n",
      "Singapore                          34\n",
      "Hungary                            34\n",
      "New Zealand                        33\n",
      "Argentina                          32\n",
      "Croatia                            32\n",
      "Norway                             31\n",
      "Indonesia                          31\n",
      "                                 ... \n",
      "Cameroon                            1\n",
      "Guadeloupe                          1\n",
      "Botswana                            1\n",
      "Turkmenistan                        1\n",
      "Sudan                               1\n",
      "Bolivia                             1\n",
      "Cayman Islands                      1\n",
      "Anguilla                            1\n",
      "Jordan                              1\n",
      "Cuba                                1\n",
      "Qatar                               1\n",
      "Angola                              1\n",
      "Gibraltar                           1\n",
      "Trinidad & Tobago                   1\n",
      "Aruba                               1\n",
      "Papua New Guinea                    1\n",
      "Samoa                               1\n",
      "Guatemala                           1\n",
      "Nambia                              1\n",
      "Nicaragua                           1\n",
      "Liberia                             1\n",
      "Kyrgyzstan                          1\n",
      "Myanmar                             1\n",
      "Somalia                             1\n",
      "Vanuatu                             1\n",
      "Rwanda                              1\n",
      "Yemen                               1\n",
      "Panama                              1\n",
      "Gambia                              1\n",
      "Channel Islands                     1\n",
      "Name: CountryLive, Length: 137, dtype: int64\n",
      "United States of America         45.700497\n",
      "India                             7.721556\n",
      "United Kingdom                    4.606610\n",
      "Canada                            3.802281\n",
      "Poland                            1.915765\n",
      "Brazil                            1.886517\n",
      "Germany                           1.828020\n",
      "Australia                         1.637906\n",
      "Russia                            1.491664\n",
      "Ukraine                           1.301550\n",
      "Nigeria                           1.228429\n",
      "Spain                             1.126060\n",
      "France                            1.096812\n",
      "Romania                           1.038315\n",
      "Netherlands (Holland, Europe)     0.950570\n",
      "Italy                             0.906698\n",
      "Philippines                       0.760456\n",
      "Serbia                            0.760456\n",
      "Greece                            0.672711\n",
      "Ireland                           0.628839\n",
      "South Africa                      0.570342\n",
      "Mexico                            0.541094\n",
      "Turkey                            0.526470\n",
      "Singapore                         0.497221\n",
      "Hungary                           0.497221\n",
      "New Zealand                       0.482597\n",
      "Argentina                         0.467973\n",
      "Croatia                           0.467973\n",
      "Norway                            0.453349\n",
      "Indonesia                         0.453349\n",
      "                                   ...    \n",
      "Cameroon                          0.014624\n",
      "Guadeloupe                        0.014624\n",
      "Botswana                          0.014624\n",
      "Turkmenistan                      0.014624\n",
      "Sudan                             0.014624\n",
      "Bolivia                           0.014624\n",
      "Cayman Islands                    0.014624\n",
      "Anguilla                          0.014624\n",
      "Jordan                            0.014624\n",
      "Cuba                              0.014624\n",
      "Qatar                             0.014624\n",
      "Angola                            0.014624\n",
      "Gibraltar                         0.014624\n",
      "Trinidad & Tobago                 0.014624\n",
      "Aruba                             0.014624\n",
      "Papua New Guinea                  0.014624\n",
      "Samoa                             0.014624\n",
      "Guatemala                         0.014624\n",
      "Nambia                            0.014624\n",
      "Nicaragua                         0.014624\n",
      "Liberia                           0.014624\n",
      "Kyrgyzstan                        0.014624\n",
      "Myanmar                           0.014624\n",
      "Somalia                           0.014624\n",
      "Vanuatu                           0.014624\n",
      "Rwanda                            0.014624\n",
      "Yemen                             0.014624\n",
      "Panama                            0.014624\n",
      "Gambia                            0.014624\n",
      "Channel Islands                   0.014624\n",
      "Name: CountryLive, Length: 137, dtype: float64\n"
     ]
    }
   ],
   "source": [
    "# Count roles in CountryLive column and generate a frequency distribution table\n",
    "print(survey_data['CountryLive'].value_counts(normalize=False))\n",
    "print(survey_data['CountryLive'].value_counts(normalize=True)*100)\n"
   ]
  },
  {
   "cell_type": "markdown",
   "metadata": {},
   "source": [
    "Based on the number of respondents living in each country, it seems we should focus on the USA and India. However, we should do further analysis before making a decision. \n",
    "\n",
    "We can continue by figuring out how much money new coders are actually willing to spend on learning. Advertising within markets where most people are only willing to learn for free is extremely unlikely to be profitable for us."
   ]
  },
  {
   "cell_type": "markdown",
   "metadata": {},
   "source": [
    "## How willing are respondents to spend money on online coding courses?"
   ]
  },
  {
   "cell_type": "markdown",
   "metadata": {},
   "source": [
    "The MoneyForLearning column describes in American dollars the amount of money spent by participants from the moment they started coding until the moment they completed the survey. Our company sells subscriptions at a price of $59 per month, and for this reason we're interested in finding out how much money each student spends per month."
   ]
  },
  {
   "cell_type": "markdown",
   "metadata": {},
   "source": [
    "It also seems like a good idea to narrow down our analysis to only four countries: the US, India, the United Kingdom, and Canada. Two reasons for this decision are:\n",
    "\n",
    "- These are the countries having the highest absolute frequencies in our sample, which means we have a decent amount of data for each.\n",
    "- Our courses are written in English, and English is an official language in all these four countries. The more people that know English, the better our chances to target the right people with our ads."
   ]
  },
  {
   "cell_type": "code",
   "execution_count": 13,
   "metadata": {
    "collapsed": false
   },
   "outputs": [
    {
     "data": {
      "text/plain": [
       "United States of America    3125\n",
       "India                        528\n",
       "United Kingdom               315\n",
       "Canada                       260\n",
       "Name: CountryLive, dtype: int64"
      ]
     },
     "execution_count": 13,
     "metadata": {},
     "output_type": "execute_result"
    }
   ],
   "source": [
    "# Selecting data for these 4 countries\n",
    "sample = survey_data[survey_data['CountryLive'].isin(['United States of America','India','United Kingdom','Canada'])]\n",
    "sample['CountryLive'].value_counts()\n"
   ]
  },
  {
   "cell_type": "code",
   "execution_count": 83,
   "metadata": {
    "collapsed": false
   },
   "outputs": [
    {
     "name": "stderr",
     "output_type": "stream",
     "text": [
      "/dataquest/system/env/python3/lib/python3.4/site-packages/ipykernel/__main__.py:2: SettingWithCopyWarning:\n",
      "\n",
      "\n",
      "A value is trying to be set on a copy of a slice from a DataFrame.\n",
      "Try using .loc[row_indexer,col_indexer] = value instead\n",
      "\n",
      "See the caveats in the documentation: http://pandas.pydata.org/pandas-docs/stable/indexing.html#indexing-view-versus-copy\n",
      "\n",
      "/dataquest/system/env/python3/lib/python3.4/site-packages/ipykernel/__main__.py:3: SettingWithCopyWarning:\n",
      "\n",
      "\n",
      "A value is trying to be set on a copy of a slice from a DataFrame.\n",
      "Try using .loc[row_indexer,col_indexer] = value instead\n",
      "\n",
      "See the caveats in the documentation: http://pandas.pydata.org/pandas-docs/stable/indexing.html#indexing-view-versus-copy\n",
      "\n"
     ]
    }
   ],
   "source": [
    "# Replace 0 with 1 in MonthsProgramming column\n",
    "sample['MonthsProgramming']=sample['MonthsProgramming'].replace(0,1)\n",
    "sample['money_month'] = sample['MoneyForLearning'] / sample['MonthsProgramming']\n"
   ]
  },
  {
   "cell_type": "code",
   "execution_count": 84,
   "metadata": {
    "collapsed": false
   },
   "outputs": [
    {
     "data": {
      "text/plain": [
       "0.000000        1844\n",
       "16.666667         82\n",
       "50.000000         76\n",
       "25.000000         74\n",
       "100.000000        68\n",
       "8.333333          67\n",
       "33.333333         64\n",
       "20.000000         59\n",
       "12.500000         51\n",
       "10.000000         48\n",
       "166.666667        47\n",
       "83.333333         47\n",
       "4.166667          38\n",
       "66.666667         38\n",
       "5.000000          37\n",
       "500.000000        32\n",
       "200.000000        31\n",
       "250.000000        29\n",
       "41.666667         28\n",
       "20.833333         27\n",
       "11.111111         26\n",
       "2.500000          26\n",
       "125.000000        25\n",
       "3.333333          22\n",
       "1000.000000       21\n",
       "5.555556          20\n",
       "30.000000         19\n",
       "333.333333        18\n",
       "75.000000         17\n",
       "300.000000        16\n",
       "                ... \n",
       "33.250000          1\n",
       "291.666667         1\n",
       "12.820513          1\n",
       "21.666667          1\n",
       "117.500000         1\n",
       "0.714286           1\n",
       "307.692308         1\n",
       "23.809524          1\n",
       "80000.000000       1\n",
       "10.833333          1\n",
       "3.076923           1\n",
       "0.708333           1\n",
       "1.428571           1\n",
       "7.777778           1\n",
       "1.612903           1\n",
       "1066.666667        1\n",
       "2.380952           1\n",
       "1.818182           1\n",
       "1.052632           1\n",
       "607.142857         1\n",
       "4.857143           1\n",
       "270.000000         1\n",
       "1670.000000        1\n",
       "0.672043           1\n",
       "1142.857143        1\n",
       "229.166667         1\n",
       "3.166667           1\n",
       "325.000000         1\n",
       "4250.000000        1\n",
       "611.111111         1\n",
       "Name: money_month, Length: 387, dtype: int64"
      ]
     },
     "execution_count": 84,
     "metadata": {},
     "output_type": "execute_result"
    }
   ],
   "source": [
    "sample['money_month'].value_counts()"
   ]
  },
  {
   "cell_type": "markdown",
   "metadata": {
    "collapsed": true
   },
   "source": [
    "Less than half of the respondents in these 4 countries have not spend any money on online coding courses, so we'll drop these rows."
   ]
  },
  {
   "cell_type": "code",
   "execution_count": 85,
   "metadata": {
    "collapsed": false
   },
   "outputs": [
    {
     "name": "stderr",
     "output_type": "stream",
     "text": [
      "/dataquest/system/env/python3/lib/python3.4/site-packages/ipykernel/__main__.py:2: SettingWithCopyWarning:\n",
      "\n",
      "\n",
      "A value is trying to be set on a copy of a slice from a DataFrame\n",
      "\n",
      "See the caveats in the documentation: http://pandas.pydata.org/pandas-docs/stable/indexing.html#indexing-view-versus-copy\n",
      "\n"
     ]
    }
   ],
   "source": [
    "sample_money = sample[sample['money_month'] > 0]\n",
    "sample_money.dropna(subset=['CountryLive'], inplace=True)"
   ]
  },
  {
   "cell_type": "markdown",
   "metadata": {},
   "source": [
    "Now let's find out how much new coders spend on average on online coding courses each month in these 4 countries"
   ]
  },
  {
   "cell_type": "code",
   "execution_count": 86,
   "metadata": {
    "collapsed": false
   },
   "outputs": [
    {
     "data": {
      "text/plain": [
       "CountryLive\n",
       "Canada                      238.970444\n",
       "India                       311.202759\n",
       "United Kingdom               92.730727\n",
       "United States of America    413.043929\n",
       "Name: money_month, dtype: float64"
      ]
     },
     "execution_count": 86,
     "metadata": {},
     "output_type": "execute_result"
    }
   ],
   "source": [
    "sample_money.groupby('CountryLive')['money_month'].mean()"
   ]
  },
  {
   "cell_type": "code",
   "execution_count": 87,
   "metadata": {
    "collapsed": false
   },
   "outputs": [
    {
     "data": {
      "text/plain": [
       "CountryLive\n",
       "Canada                      25.000000\n",
       "India                       20.000000\n",
       "United Kingdom              20.833333\n",
       "United States of America    33.333333\n",
       "Name: money_month, dtype: float64"
      ]
     },
     "execution_count": 87,
     "metadata": {},
     "output_type": "execute_result"
    }
   ],
   "source": [
    "sample_money.groupby('CountryLive')['money_month'].median()"
   ]
  },
  {
   "cell_type": "markdown",
   "metadata": {},
   "source": [
    "Based on the mean and median amount spent per person per respondent, we can see that learners in the USA spend the most. However, the median earner in Canada spends the 2nd highest amount, while the mean amount spent per month is 2nd highest in India."
   ]
  },
  {
   "cell_type": "markdown",
   "metadata": {},
   "source": [
    "The results for the United Kingdom and Canada are surprisingly low relative to the values we see for India. If we considered a few socio-economical metrics (like GDP per capita), we'd intuitively expect people in the UK and Canada to spend more on learning than people in India.\n",
    "\n",
    "It might be that we don't have have enough representative data for the United Kingdom, Canada, and India, or we have some outliers (maybe coming from wrong survey answers) making the mean too big for India, or too low for the UK and Canada. Or it might be that the results are correct.\n",
    "\n",
    "Let's visualise the distributions to see if there are outliers."
   ]
  },
  {
   "cell_type": "markdown",
   "metadata": {},
   "source": [
    "### Dealing with outliers"
   ]
  },
  {
   "cell_type": "code",
   "execution_count": 88,
   "metadata": {
    "collapsed": false
   },
   "outputs": [
    {
     "data": {
      "image/png": "[encoded data removed]",
      "text/plain": [
       "<matplotlib.figure.Figure at 0x7f57804ff470>"
      ]
     },
     "metadata": {},
     "output_type": "display_data"
    }
   ],
   "source": [
    "sample_money.boxplot(column=['money_month'],by=['CountryLive'],figsize = (10,5))\n",
    "# plt.ylim(0, sample_money['money_month'].max())\n",
    "plt.show()"
   ]
  },
  {
   "cell_type": "code",
   "execution_count": 89,
   "metadata": {
    "collapsed": false
   },
   "outputs": [
    {
     "name": "stdout",
     "output_type": "stream",
     "text": [
      "                    CountryLive   money_month\n",
      "2478   United States of America  50000.000000\n",
      "3930   United States of America  10833.333333\n",
      "6805   United States of America  15000.000000\n",
      "7198   United States of America  14000.000000\n",
      "14024  United States of America  80000.000000\n",
      "16650  United States of America  16666.666667\n",
      "16997  United States of America  12500.000000\n",
      "17231  United States of America  15000.000000\n"
     ]
    }
   ],
   "source": [
    "print(sample_money[sample_money['money_month'] > 10000][['CountryLive','money_month']])"
   ]
  },
  {
   "cell_type": "markdown",
   "metadata": {},
   "source": [
    "We can see that there are 2 outliers from the US who spend $50,000 or more per month. This seems very unlikely, so we'll eliminate them."
   ]
  },
  {
   "cell_type": "code",
   "execution_count": 90,
   "metadata": {
    "collapsed": false
   },
   "outputs": [],
   "source": [
    "sample_cleaned = sample_money[sample_money['money_month'] < 20000]"
   ]
  },
  {
   "cell_type": "code",
   "execution_count": 91,
   "metadata": {
    "collapsed": false
   },
   "outputs": [
    {
     "data": {
      "text/plain": [
       "CountryLive\n",
       "Canada                      238.970444\n",
       "India                       311.202759\n",
       "United Kingdom               92.730727\n",
       "United States of America    333.159012\n",
       "Name: money_month, dtype: float64"
      ]
     },
     "execution_count": 91,
     "metadata": {},
     "output_type": "execute_result"
    }
   ],
   "source": [
    "sample_cleaned.groupby('CountryLive')['money_month'].mean()"
   ]
  },
  {
   "cell_type": "code",
   "execution_count": 92,
   "metadata": {
    "collapsed": false
   },
   "outputs": [
    {
     "data": {
      "text/plain": [
       "CountryLive\n",
       "Canada                      25.000000\n",
       "India                       20.000000\n",
       "United Kingdom              20.833333\n",
       "United States of America    33.333333\n",
       "Name: money_month, dtype: float64"
      ]
     },
     "execution_count": 92,
     "metadata": {},
     "output_type": "execute_result"
    }
   ],
   "source": [
    "sample_cleaned.groupby('CountryLive')['money_month'].median()"
   ]
  },
  {
   "cell_type": "markdown",
   "metadata": {},
   "source": [
    "The mean values for the US and India still look quite high, so we'll do a bit more analysis of outliers in both."
   ]
  },
  {
   "cell_type": "code",
   "execution_count": 93,
   "metadata": {
    "collapsed": false
   },
   "outputs": [
    {
     "data": {
      "image/png": "[encoded data removed]",
      "text/plain": [
       "<matplotlib.figure.Figure at 0x7f578141a0f0>"
      ]
     },
     "metadata": {},
     "output_type": "display_data"
    }
   ],
   "source": [
    "sample_cleaned.boxplot(column=['money_month'],by=['CountryLive'])\n",
    "# plt.ylim(0, 19000)\n",
    "plt.show()"
   ]
  },
  {
   "cell_type": "code",
   "execution_count": 94,
   "metadata": {
    "collapsed": false
   },
   "outputs": [
    {
     "name": "stdout",
     "output_type": "stream",
     "text": [
      "      CountryLive  money_month\n",
      "1728        India       5000.0\n",
      "7989        India       5000.0\n",
      "8126        India       5000.0\n",
      "13398       India      10000.0\n",
      "Empty DataFrame\n",
      "Columns: [CountryLive, money_month]\n",
      "Index: []\n",
      "      CountryLive  money_month\n",
      "13659      Canada       5000.0\n",
      "                    CountryLive   money_month\n",
      "718    United States of America   8000.000000\n",
      "1222   United States of America   6500.000000\n",
      "3145   United States of America   5666.666667\n",
      "3184   United States of America   9000.000000\n",
      "3930   United States of America  10833.333333\n",
      "5769   United States of America   5000.000000\n",
      "6528   United States of America   5000.000000\n",
      "6805   United States of America  15000.000000\n",
      "7198   United States of America  14000.000000\n",
      "7505   United States of America   6666.666667\n",
      "8202   United States of America   5000.000000\n",
      "8901   United States of America   5000.000000\n",
      "9778   United States of America   8000.000000\n",
      "13145  United States of America   5333.333333\n",
      "16211  United States of America   5000.000000\n",
      "16650  United States of America  16666.666667\n",
      "16997  United States of America  12500.000000\n",
      "17231  United States of America  15000.000000\n"
     ]
    },
    {
     "name": "stderr",
     "output_type": "stream",
     "text": [
      "/dataquest/system/env/python3/lib/python3.4/site-packages/ipykernel/__main__.py:2: UserWarning:\n",
      "\n",
      "Boolean Series key will be reindexed to match DataFrame index.\n",
      "\n"
     ]
    }
   ],
   "source": [
    "for country in ['India','United Kingdom','Canada','United States of America']:\n",
    "    print(sample_cleaned[(sample_cleaned['money_month'] >= 5000) & (sample_money['CountryLive'] == country)][['CountryLive','money_month']])\n"
   ]
  },
  {
   "cell_type": "markdown",
   "metadata": {},
   "source": [
    "We can see a some remaining outliers for India and the US (values over $5000 per month), but it's unclear whether this is good data or not. Maybe these persons attended several bootcamps, which tend to be very expensive. Let's examine these data points to see if we can find anything relevant.\n"
   ]
  },
  {
   "cell_type": "code",
   "execution_count": 96,
   "metadata": {
    "collapsed": false
   },
   "outputs": [
    {
     "name": "stdout",
     "output_type": "stream",
     "text": [
      "      CountryLive  money_month  AttendedBootcamp  MonthsProgramming\n",
      "1728        India       5000.0               0.0                4.0\n",
      "7989        India       5000.0               0.0                1.0\n",
      "8126        India       5000.0               0.0                1.0\n",
      "13398       India      10000.0               0.0                2.0\n",
      "                    CountryLive   money_month  AttendedBootcamp  \\\n",
      "718    United States of America   8000.000000               1.0   \n",
      "1222   United States of America   6500.000000               1.0   \n",
      "3145   United States of America   5666.666667               1.0   \n",
      "3184   United States of America   9000.000000               1.0   \n",
      "3930   United States of America  10833.333333               0.0   \n",
      "5769   United States of America   5000.000000               0.0   \n",
      "6528   United States of America   5000.000000               0.0   \n",
      "6805   United States of America  15000.000000               1.0   \n",
      "7198   United States of America  14000.000000               0.0   \n",
      "7505   United States of America   6666.666667               1.0   \n",
      "8202   United States of America   5000.000000               1.0   \n",
      "8901   United States of America   5000.000000               1.0   \n",
      "9778   United States of America   8000.000000               1.0   \n",
      "13145  United States of America   5333.333333               1.0   \n",
      "16211  United States of America   5000.000000               1.0   \n",
      "16650  United States of America  16666.666667               0.0   \n",
      "16997  United States of America  12500.000000               0.0   \n",
      "17231  United States of America  15000.000000               0.0   \n",
      "\n",
      "       MonthsProgramming  \n",
      "718                  1.0  \n",
      "1222                 2.0  \n",
      "3145                 3.0  \n",
      "3184                 1.0  \n",
      "3930                 6.0  \n",
      "5769                 3.0  \n",
      "6528                 1.0  \n",
      "6805                 1.0  \n",
      "7198                 5.0  \n",
      "7505                 3.0  \n",
      "8202                 3.0  \n",
      "8901                 3.0  \n",
      "9778                 1.0  \n",
      "13145                3.0  \n",
      "16211                2.0  \n",
      "16650               12.0  \n",
      "16997                1.0  \n",
      "17231                2.0  \n"
     ]
    }
   ],
   "source": [
    "for country in ['India','United States of America']:\n",
    "    print(sample_cleaned[(sample_cleaned['money_month'] >= 5000) & (sample_cleaned['CountryLive'] == country)][['CountryLive','money_month','AttendedBootcamp','MonthsProgramming']])\n"
   ]
  },
  {
   "cell_type": "markdown",
   "metadata": {},
   "source": [
    "We can see that none of those in India who spend \\$5000 or more attended bootcamps, so this figure seems unlikely. The same goes for those in the US who didn't attend bootcamps, so we'll remove the data for those who spent \\$5000 or more but didn't attend bootcamps.\n",
    "\n",
    "There are also individuals who have spent >\\$5000 who attended bootcamps, but who have been programming for <3 months. As such, it is likely that the large amount of expenditure could have been for the bootcamp, and they won't be spending money while they go through the bootcamp. We'll also remove these individuals."
   ]
  },
  {
   "cell_type": "code",
   "execution_count": 104,
   "metadata": {
    "collapsed": false
   },
   "outputs": [
    {
     "name": "stderr",
     "output_type": "stream",
     "text": [
      "/dataquest/system/env/python3/lib/python3.4/site-packages/ipykernel/__main__.py:2: SettingWithCopyWarning:\n",
      "\n",
      "\n",
      "A value is trying to be set on a copy of a slice from a DataFrame\n",
      "\n",
      "See the caveats in the documentation: http://pandas.pydata.org/pandas-docs/stable/indexing.html#indexing-view-versus-copy\n",
      "\n",
      "/dataquest/system/env/python3/lib/python3.4/site-packages/ipykernel/__main__.py:3: SettingWithCopyWarning:\n",
      "\n",
      "\n",
      "A value is trying to be set on a copy of a slice from a DataFrame\n",
      "\n",
      "See the caveats in the documentation: http://pandas.pydata.org/pandas-docs/stable/indexing.html#indexing-view-versus-copy\n",
      "\n"
     ]
    }
   ],
   "source": [
    "# sample_final = sample_cleaned[(sample_cleaned['money_month'] < 5000) & (sample_cleaned[''])]\n",
    "sample_cleaned.drop(sample_cleaned[(sample_cleaned['money_month'] >= 5000) & (sample_cleaned['AttendedBootcamp'] == 0)].index, inplace=True)\n",
    "sample_cleaned.drop(sample_cleaned[(sample_cleaned['money_month'] >= 5000) & (sample_cleaned['MonthsProgramming'] <= 3)].index, inplace=True)\n",
    "    "
   ]
  },
  {
   "cell_type": "code",
   "execution_count": 106,
   "metadata": {
    "collapsed": false
   },
   "outputs": [
    {
     "data": {
      "text/plain": [
       "CountryLive\n",
       "Canada                      196.837439\n",
       "India                       190.618044\n",
       "United Kingdom               92.730727\n",
       "United States of America    237.993405\n",
       "Name: money_month, dtype: float64"
      ]
     },
     "execution_count": 106,
     "metadata": {},
     "output_type": "execute_result"
    }
   ],
   "source": [
    "sample_cleaned.groupby('CountryLive')['money_month'].mean()"
   ]
  },
  {
   "cell_type": "markdown",
   "metadata": {},
   "source": [
    "### Advertising recommendation"
   ]
  },
  {
   "cell_type": "markdown",
   "metadata": {},
   "source": [
    "Based on the revised mean amounts, we should definitely advertise in the USA, as they have the most number of learners and the highest amount spent per month on average. However, we also need to decide on the 2nd market. People in Canada spend slightly more per month on average, but India has nearly twice the number of potential customers."
   ]
  },
  {
   "cell_type": "code",
   "execution_count": 107,
   "metadata": {
    "collapsed": false
   },
   "outputs": [
    {
     "data": {
      "text/plain": [
       "CountryLive\n",
       "Canada                      25.000000\n",
       "India                       20.000000\n",
       "United Kingdom              20.833333\n",
       "United States of America    33.333333\n",
       "Name: money_month, dtype: float64"
      ]
     },
     "execution_count": 107,
     "metadata": {},
     "output_type": "execute_result"
    }
   ],
   "source": [
    "sample_cleaned.groupby('CountryLive')['money_month'].median()"
   ]
  },
  {
   "cell_type": "markdown",
   "metadata": {},
   "source": [
    "We sell subscriptions at a price of \\$59 per month. The median amount spent per month is higher in Canada (\\$25 compared to India's \\$20). However, as they are not too different, it appears that there could be a few options. Whatever is decided, the budget shouldn't be split equally given how much larger the market in the US is. \n",
    "\n",
    "- Advertise in US and India or US and Canada (70\\% to US and 30\\% to the other country)\n",
    "- Advertise in US (65\\%), India (20\\%) and Canada (15\\%)"
   ]
  },
  {
   "cell_type": "markdown",
   "metadata": {},
   "source": [
    "Let's see whether either market has more people interested in web and mobile development before sharing the analysis."
   ]
  },
  {
   "cell_type": "code",
   "execution_count": 116,
   "metadata": {
    "collapsed": false
   },
   "outputs": [
    {
     "name": "stdout",
     "output_type": "stream",
     "text": [
      "The % of respondents interested in both web and mobile development in India is\n",
      "84.26\n",
      "The % of respondents interested in both web and mobile development in Canada is\n",
      "90.27\n"
     ]
    }
   ],
   "source": [
    "for country in ['India','Canada']:\n",
    "    interested = sample_cleaned[(sample_cleaned['webmob_count'] > 0) & (sample_cleaned['CountryLive']==country)]\n",
    "    pct_int = interested.shape[0] / sample_cleaned[sample_cleaned['CountryLive']==country].shape[0]\n",
    "    print('The % of respondents interested in both web and mobile development in ' + str(country) + ' is')\n",
    "    print(round(pct_int*100,2))"
   ]
  },
  {
   "cell_type": "markdown",
   "metadata": {},
   "source": [
    "Both countries have a high % of people interested in either web or mobile development. As we can't draw more conclusions from the data, it might make sense to share the analysis and options with the marketing team, so that they can use their domain knowledge to take the best decision."
   ]
  },
  {
   "cell_type": "markdown",
   "metadata": {},
   "source": [
    "## Conclusion "
   ]
  },
  {
   "cell_type": "markdown",
   "metadata": {},
   "source": [
    "In this project, we analysed data on the learning interests and expenditure of new coders and would recommend advertising our courses in the US. However, we decided to send our analysis to the marketing team to let them decide on the 2nd country as the data did not point to a distinct better option."
   ]
  }
 ],
 "metadata": {
  "kernelspec": {
   "display_name": "Python 3",
   "language": "python",
   "name": "python3"
  },
  "language_info": {
   "codemirror_mode": {
    "name": "ipython",
    "version": 3
   },
   "file_extension": ".py",
   "mimetype": "text/x-python",
   "name": "python",
   "nbconvert_exporter": "python",
   "pygments_lexer": "ipython3",
   "version": "3.4.3"
  }
 },
 "nbformat": 4,
 "nbformat_minor": 2
}
